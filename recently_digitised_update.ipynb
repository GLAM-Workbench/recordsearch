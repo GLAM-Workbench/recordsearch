{
 "cells": [
  {
   "cell_type": "markdown",
   "id": "2d494c21-8813-4994-a157-0a2db545639a",
   "metadata": {},
   "source": [
    "# Files digitised in the last week\n",
    "\n",
    "Each Sunday I'm automatically harvesting details of files digitised by the NAA in the previous week. You can view the results [in this repository](https://github.com/wragge/naa-recently-digitised). This notebook analyses the most recent harvest to provide a summary of the results."
   ]
  },
  {
   "cell_type": "code",
   "execution_count": 62,
   "id": "9cf6b2e0-ff28-4555-8a8f-42bae11abbd8",
   "metadata": {},
   "outputs": [],
   "source": [
    "import datetime\n",
    "\n",
    "import arrow\n",
    "import pandas as pd\n",
    "from IPython.display import display\n",
    "from recordsearch_data_scraper.scrapers import RSSeries\n",
    "from tqdm.auto import tqdm"
   ]
  },
  {
   "cell_type": "code",
   "execution_count": 63,
   "id": "2415ae47-5ce6-4bbf-8bcc-3a726904e4e4",
   "metadata": {},
   "outputs": [
    {
     "name": "stdout",
     "output_type": "stream",
     "text": [
      "Harvested on Sunday, 7 June 2022.\n"
     ]
    }
   ],
   "source": [
    "# Find the date of the most recent Sunday\n",
    "today = arrow.now().to(\"Australia/Sydney\")\n",
    "# Todat is Sunday and it's past 2pm so the harvest should have run\n",
    "if today.weekday() == 6 and today.time() >= datetime.time(14, 0, 0, 0):\n",
    "    harvest_day = today\n",
    "# Otherwise get last Sunday\n",
    "else:\n",
    "    harvest_day = arrow.now().to(\"Australia/Sydney\").shift(weekday=6).shift(weeks=-1)\n",
    "\n",
    "print(f'Harvested on {harvest_day.format(\"dddd, d MMMM YYYY\")}.')"
   ]
  },
  {
   "cell_type": "code",
   "execution_count": 64,
   "id": "4062207b-5ddf-4e69-ac96-439902624c41",
   "metadata": {},
   "outputs": [],
   "source": [
    "df = pd.read_csv(\n",
    "    f'https://raw.githubusercontent.com/wragge/naa-recently-digitised/master/data/digitised-week-ending-{harvest_day.format(\"YYYYMMDD\")}.csv'\n",
    ")"
   ]
  },
  {
   "cell_type": "code",
   "execution_count": 65,
   "id": "1959e168-58c4-4e54-8c33-58b04afde2df",
   "metadata": {},
   "outputs": [
    {
     "data": {
      "text/plain": [
       "(55633, 6)"
      ]
     },
     "execution_count": 65,
     "metadata": {},
     "output_type": "execute_result"
    }
   ],
   "source": [
    "df.shape"
   ]
  },
  {
   "cell_type": "code",
   "execution_count": 66,
   "id": "eba145be-32d6-4bb0-a49d-83b9264052a5",
   "metadata": {},
   "outputs": [
    {
     "data": {
      "text/plain": [
       "A2571     33686\n",
       "B884      10150\n",
       "A2572      8748\n",
       "C610        961\n",
       "A9301       735\n",
       "D874        624\n",
       "B883        163\n",
       "J853        161\n",
       "A14487      102\n",
       "A2478        21\n",
       "Name: series, dtype: int64"
      ]
     },
     "execution_count": 66,
     "metadata": {},
     "output_type": "execute_result"
    }
   ],
   "source": [
    "df[\"series\"].value_counts()[:10]"
   ]
  },
  {
   "cell_type": "code",
   "execution_count": 67,
   "id": "593822ac-5b0b-4a02-a889-ee057c08b43d",
   "metadata": {},
   "outputs": [],
   "source": [
    "series_list = list(df[\"series\"].unique())"
   ]
  },
  {
   "cell_type": "code",
   "execution_count": 68,
   "id": "1383b682-c3da-435c-b07c-8b6674ffabca",
   "metadata": {},
   "outputs": [
    {
     "data": {
      "application/vnd.jupyter.widget-view+json": {
       "model_id": "0e103c1951f54d109ae43d5ce88b7ac5",
       "version_major": 2,
       "version_minor": 0
      },
      "text/plain": [
       "  0%|          | 0/154 [00:00<?, ?it/s]"
      ]
     },
     "metadata": {},
     "output_type": "display_data"
    }
   ],
   "source": [
    "cited_series = []\n",
    "for series in tqdm(series_list):\n",
    "    data = RSSeries(\n",
    "        series, include_number_digitised=False, include_access_status=False\n",
    "    ).data\n",
    "    cited_series.append({\"series\": series, \"series_title\": data[\"title\"]})"
   ]
  },
  {
   "cell_type": "code",
   "execution_count": 69,
   "id": "e75a7fe1-8251-47d3-b879-89c487687e52",
   "metadata": {},
   "outputs": [],
   "source": [
    "df_titles = pd.merge(df, pd.DataFrame(cited_series), how=\"left\", on=\"series\")"
   ]
  },
  {
   "cell_type": "code",
   "execution_count": 71,
   "id": "8c86105c-6931-49f2-a0de-2fd32da05340",
   "metadata": {},
   "outputs": [
    {
     "data": {
      "text/html": [
       "<div>\n",
       "<style scoped>\n",
       "    .dataframe tbody tr th:only-of-type {\n",
       "        vertical-align: middle;\n",
       "    }\n",
       "\n",
       "    .dataframe tbody tr th {\n",
       "        vertical-align: top;\n",
       "    }\n",
       "\n",
       "    .dataframe thead th {\n",
       "        text-align: right;\n",
       "    }\n",
       "</style>\n",
       "<table border=\"1\" class=\"dataframe\">\n",
       "  <thead>\n",
       "    <tr style=\"text-align: right;\">\n",
       "      <th></th>\n",
       "      <th>series</th>\n",
       "      <th>series_title</th>\n",
       "      <th>total</th>\n",
       "    </tr>\n",
       "  </thead>\n",
       "  <tbody>\n",
       "    <tr>\n",
       "      <th>0</th>\n",
       "      <td>A1</td>\n",
       "      <td>Correspondence files, annual single number series [Main correspondence files series of the agency]</td>\n",
       "      <td>1</td>\n",
       "    </tr>\n",
       "    <tr>\n",
       "      <th>1</th>\n",
       "      <td>D1915</td>\n",
       "      <td>Investigation case files, single number series with 'SA' (South Australia) prefix</td>\n",
       "      <td>1</td>\n",
       "    </tr>\n",
       "    <tr>\n",
       "      <th>2</th>\n",
       "      <td>CP211/2</td>\n",
       "      <td>Correspondence files and other related papers</td>\n",
       "      <td>1</td>\n",
       "    </tr>\n",
       "    <tr>\n",
       "      <th>3</th>\n",
       "      <td>CP697/39</td>\n",
       "      <td>Record of grants of land held on Norfolk Island</td>\n",
       "      <td>1</td>\n",
       "    </tr>\n",
       "    <tr>\n",
       "      <th>4</th>\n",
       "      <td>D1051</td>\n",
       "      <td>Original drawings, plans and prints of National Estate properties</td>\n",
       "      <td>1</td>\n",
       "    </tr>\n",
       "    <tr>\n",
       "      <th>5</th>\n",
       "      <td>D13</td>\n",
       "      <td>Original Agreements and Accounts of Crew (Form M &amp; S 3)1, with Ships Official Log Books (Form M ...</td>\n",
       "      <td>1</td>\n",
       "    </tr>\n",
       "    <tr>\n",
       "      <th>6</th>\n",
       "      <td>D1357</td>\n",
       "      <td>Army Pay Files [WWII CMF) single number series with 'S' prefix</td>\n",
       "      <td>1</td>\n",
       "    </tr>\n",
       "    <tr>\n",
       "      <th>7</th>\n",
       "      <td>D1358</td>\n",
       "      <td>Army pay files (2AIF), single number series with 'SX' prefix</td>\n",
       "      <td>1</td>\n",
       "    </tr>\n",
       "    <tr>\n",
       "      <th>8</th>\n",
       "      <td>D1901</td>\n",
       "      <td>Loveday Internment Camp internees files, single number series with variable alpha prefix</td>\n",
       "      <td>1</td>\n",
       "    </tr>\n",
       "    <tr>\n",
       "      <th>9</th>\n",
       "      <td>D2416</td>\n",
       "      <td>Arrival and departure registers, Finsbury Hostel.</td>\n",
       "      <td>1</td>\n",
       "    </tr>\n",
       "    <tr>\n",
       "      <th>10</th>\n",
       "      <td>F941</td>\n",
       "      <td>Correspondence files, annual single number series - [portion transferred to NT Archives Service]</td>\n",
       "      <td>1</td>\n",
       "    </tr>\n",
       "    <tr>\n",
       "      <th>11</th>\n",
       "      <td>D2419</td>\n",
       "      <td>Arrival and departure registers, Glenelg North Migrant Hostel</td>\n",
       "      <td>1</td>\n",
       "    </tr>\n",
       "    <tr>\n",
       "      <th>12</th>\n",
       "      <td>D26</td>\n",
       "      <td>Lighthouse log books, Cape Willoughby (Sturt Light), chronological series</td>\n",
       "      <td>1</td>\n",
       "    </tr>\n",
       "    <tr>\n",
       "      <th>13</th>\n",
       "      <td>D400</td>\n",
       "      <td>Correspondence files, annual single number series with 'SA' and 'S' prefix</td>\n",
       "      <td>1</td>\n",
       "    </tr>\n",
       "    <tr>\n",
       "      <th>14</th>\n",
       "      <td>D4881</td>\n",
       "      <td>Alien registration cards, alphabetical series</td>\n",
       "      <td>1</td>\n",
       "    </tr>\n",
       "    <tr>\n",
       "      <th>15</th>\n",
       "      <td>D874</td>\n",
       "      <td>Still photograph outdoor and studio negatives, annual single number series with N prefix (and pr...</td>\n",
       "      <td>1</td>\n",
       "    </tr>\n",
       "    <tr>\n",
       "      <th>16</th>\n",
       "      <td>E1129</td>\n",
       "      <td>Aliens registration cards, lexicographical series</td>\n",
       "      <td>1</td>\n",
       "    </tr>\n",
       "    <tr>\n",
       "      <th>17</th>\n",
       "      <td>E40</td>\n",
       "      <td>Aliens Registration Files</td>\n",
       "      <td>1</td>\n",
       "    </tr>\n",
       "    <tr>\n",
       "      <th>18</th>\n",
       "      <td>C610</td>\n",
       "      <td>Australian Women's Land Army - personnel cards, alphabetical series</td>\n",
       "      <td>1</td>\n",
       "    </tr>\n",
       "    <tr>\n",
       "      <th>19</th>\n",
       "      <td>C123</td>\n",
       "      <td>World War II security investigation dossiers, single number series</td>\n",
       "      <td>1</td>\n",
       "    </tr>\n",
       "  </tbody>\n",
       "</table>\n",
       "</div>"
      ],
      "text/plain": [
       "      series  \\\n",
       "0         A1   \n",
       "1      D1915   \n",
       "2    CP211/2   \n",
       "3   CP697/39   \n",
       "4      D1051   \n",
       "5        D13   \n",
       "6      D1357   \n",
       "7      D1358   \n",
       "8      D1901   \n",
       "9      D2416   \n",
       "10      F941   \n",
       "11     D2419   \n",
       "12       D26   \n",
       "13      D400   \n",
       "14     D4881   \n",
       "15      D874   \n",
       "16     E1129   \n",
       "17       E40   \n",
       "18      C610   \n",
       "19      C123   \n",
       "\n",
       "                                                                                           series_title  \\\n",
       "0    Correspondence files, annual single number series [Main correspondence files series of the agency]   \n",
       "1                     Investigation case files, single number series with 'SA' (South Australia) prefix   \n",
       "2                                                         Correspondence files and other related papers   \n",
       "3                                                       Record of grants of land held on Norfolk Island   \n",
       "4                                     Original drawings, plans and prints of National Estate properties   \n",
       "5   Original Agreements and Accounts of Crew (Form M & S 3)1, with Ships Official Log Books (Form M ...   \n",
       "6                                        Army Pay Files [WWII CMF) single number series with 'S' prefix   \n",
       "7                                          Army pay files (2AIF), single number series with 'SX' prefix   \n",
       "8              Loveday Internment Camp internees files, single number series with variable alpha prefix   \n",
       "9                                                     Arrival and departure registers, Finsbury Hostel.   \n",
       "10     Correspondence files, annual single number series - [portion transferred to NT Archives Service]   \n",
       "11                                        Arrival and departure registers, Glenelg North Migrant Hostel   \n",
       "12                            Lighthouse log books, Cape Willoughby (Sturt Light), chronological series   \n",
       "13                           Correspondence files, annual single number series with 'SA' and 'S' prefix   \n",
       "14                                                        Alien registration cards, alphabetical series   \n",
       "15  Still photograph outdoor and studio negatives, annual single number series with N prefix (and pr...   \n",
       "16                                                    Aliens registration cards, lexicographical series   \n",
       "17                                                                            Aliens Registration Files   \n",
       "18                                  Australian Women's Land Army - personnel cards, alphabetical series   \n",
       "19                                   World War II security investigation dossiers, single number series   \n",
       "\n",
       "    total  \n",
       "0       1  \n",
       "1       1  \n",
       "2       1  \n",
       "3       1  \n",
       "4       1  \n",
       "5       1  \n",
       "6       1  \n",
       "7       1  \n",
       "8       1  \n",
       "9       1  \n",
       "10      1  \n",
       "11      1  \n",
       "12      1  \n",
       "13      1  \n",
       "14      1  \n",
       "15      1  \n",
       "16      1  \n",
       "17      1  \n",
       "18      1  \n",
       "19      1  "
      ]
     },
     "metadata": {},
     "output_type": "display_data"
    }
   ],
   "source": [
    "with pd.option_context(\"display.max_colwidth\", 100):\n",
    "    df_titles = (\n",
    "        df_titles.value_counts([\"series\", \"series_title\"]).to_frame().reset_index()\n",
    "    )\n",
    "    df_titles.columns = [\"series\", \"series_title\", \"total\"]\n",
    "    display(df_titles[:20])\n",
    "    totals = \"\"\n",
    "    for title in df_titles[:20].itertuples():\n",
    "        totals += (\n",
    "            f\"{title.series}, {title.series_title}, {title.total} files digitised; \"\n",
    "        )\n",
    "    # print(totals)"
   ]
  },
  {
   "cell_type": "code",
   "execution_count": null,
   "id": "cd3193d1-104e-466f-bf13-06de34a0ee3e",
   "metadata": {},
   "outputs": [],
   "source": []
  }
 ],
 "metadata": {
  "kernelspec": {
   "display_name": "Python 3 (ipykernel)",
   "language": "python",
   "name": "python3"
  },
  "language_info": {
   "codemirror_mode": {
    "name": "ipython",
    "version": 3
   },
   "file_extension": ".py",
   "mimetype": "text/x-python",
   "name": "python",
   "nbconvert_exporter": "python",
   "pygments_lexer": "ipython3",
   "version": "3.8.12"
  },
  "widgets": {
   "application/vnd.jupyter.widget-state+json": {
    "state": {
     "030f4b6da1574aa68e600ba10d8d78ea": {
      "model_module": "@jupyter-widgets/controls",
      "model_module_version": "1.5.0",
      "model_name": "FloatProgressModel",
      "state": {
       "bar_style": "success",
       "layout": "IPY_MODEL_c19dbf4c020d430299564b5c35578f36",
       "max": 154,
       "style": "IPY_MODEL_9f31a2eaef5c4dcaa642cdd8280e5813",
       "value": 154
      }
     },
     "0851002a66a54a5d8e9d2db375a00dd5": {
      "model_module": "@jupyter-widgets/controls",
      "model_module_version": "1.5.0",
      "model_name": "DescriptionStyleModel",
      "state": {
       "description_width": ""
      }
     },
     "085c6ff231d04e3989fcc42ca94e659c": {
      "model_module": "@jupyter-widgets/controls",
      "model_module_version": "1.5.0",
      "model_name": "HTMLModel",
      "state": {
       "layout": "IPY_MODEL_3c27e62eca084b53873d3df75feb89b0",
       "style": "IPY_MODEL_ad7b951f20b4450793b4cf5051423aae",
       "value": " 154/154 [00:00&lt;00:00, 4178.24it/s]"
      }
     },
     "0e103c1951f54d109ae43d5ce88b7ac5": {
      "model_module": "@jupyter-widgets/controls",
      "model_module_version": "1.5.0",
      "model_name": "HBoxModel",
      "state": {
       "children": [
        "IPY_MODEL_9783222edac34dbaa32f34cab16bf624",
        "IPY_MODEL_030f4b6da1574aa68e600ba10d8d78ea",
        "IPY_MODEL_085c6ff231d04e3989fcc42ca94e659c"
       ],
       "layout": "IPY_MODEL_5626e8c3de4d46d1a8c91e4b9bc3313b"
      }
     },
     "128d47d3ec654258935bd6de76f42f70": {
      "model_module": "@jupyter-widgets/controls",
      "model_module_version": "1.5.0",
      "model_name": "HTMLModel",
      "state": {
       "layout": "IPY_MODEL_e9dd804c59874e2ea5c51cf4b8f8ff4a",
       "style": "IPY_MODEL_eda1e01b43e34639a755881460f06a28",
       "value": "100%"
      }
     },
     "3b5b705ef99348ddad5ad79a883b64e6": {
      "model_module": "@jupyter-widgets/controls",
      "model_module_version": "1.5.0",
      "model_name": "FloatProgressModel",
      "state": {
       "bar_style": "success",
       "layout": "IPY_MODEL_f75898b363a046a5b63b449b0c799349",
       "max": 154,
       "style": "IPY_MODEL_4c8e20fb1e6540258b98e8c24cd79cd6",
       "value": 154
      }
     },
     "3c27e62eca084b53873d3df75feb89b0": {
      "model_module": "@jupyter-widgets/base",
      "model_module_version": "1.2.0",
      "model_name": "LayoutModel",
      "state": {}
     },
     "4626a990604e45d0ac835744f74ce775": {
      "model_module": "@jupyter-widgets/controls",
      "model_module_version": "1.5.0",
      "model_name": "HTMLModel",
      "state": {
       "layout": "IPY_MODEL_65af27e46c9f4ae48d765ff516e2cd7a",
       "style": "IPY_MODEL_57232454e0534e2ab170ce9f06730cbc",
       "value": "100%"
      }
     },
     "4be5b077b25c4b25bbe75dd015f36511": {
      "model_module": "@jupyter-widgets/controls",
      "model_module_version": "1.5.0",
      "model_name": "DescriptionStyleModel",
      "state": {
       "description_width": ""
      }
     },
     "4c8e20fb1e6540258b98e8c24cd79cd6": {
      "model_module": "@jupyter-widgets/controls",
      "model_module_version": "1.5.0",
      "model_name": "ProgressStyleModel",
      "state": {
       "description_width": ""
      }
     },
     "5626e8c3de4d46d1a8c91e4b9bc3313b": {
      "model_module": "@jupyter-widgets/base",
      "model_module_version": "1.2.0",
      "model_name": "LayoutModel",
      "state": {}
     },
     "57232454e0534e2ab170ce9f06730cbc": {
      "model_module": "@jupyter-widgets/controls",
      "model_module_version": "1.5.0",
      "model_name": "DescriptionStyleModel",
      "state": {
       "description_width": ""
      }
     },
     "65af27e46c9f4ae48d765ff516e2cd7a": {
      "model_module": "@jupyter-widgets/base",
      "model_module_version": "1.2.0",
      "model_name": "LayoutModel",
      "state": {}
     },
     "6e50fb8af57d4127b6a8a78c94aa41fc": {
      "model_module": "@jupyter-widgets/base",
      "model_module_version": "1.2.0",
      "model_name": "LayoutModel",
      "state": {}
     },
     "72f97c6c51cf48cb9e85373bbfc16dfb": {
      "model_module": "@jupyter-widgets/controls",
      "model_module_version": "1.5.0",
      "model_name": "DescriptionStyleModel",
      "state": {
       "description_width": ""
      }
     },
     "7ba5c45d0baa4a1f94bdd0ef32123b41": {
      "model_module": "@jupyter-widgets/controls",
      "model_module_version": "1.5.0",
      "model_name": "HBoxModel",
      "state": {
       "children": [
        "IPY_MODEL_128d47d3ec654258935bd6de76f42f70",
        "IPY_MODEL_3b5b705ef99348ddad5ad79a883b64e6",
        "IPY_MODEL_8ce94e17ba004745993d01025a87e928"
       ],
       "layout": "IPY_MODEL_f3d77ecf69864bcab713940241517602"
      }
     },
     "84a0c307c1cf485382c9c24acd9f4684": {
      "model_module": "@jupyter-widgets/controls",
      "model_module_version": "1.5.0",
      "model_name": "FloatProgressModel",
      "state": {
       "bar_style": "success",
       "layout": "IPY_MODEL_c98d97188af949faaec61a81af4c3537",
       "max": 154,
       "style": "IPY_MODEL_cf981c138551442e8e68107a3feec9d2",
       "value": 154
      }
     },
     "8ce94e17ba004745993d01025a87e928": {
      "model_module": "@jupyter-widgets/controls",
      "model_module_version": "1.5.0",
      "model_name": "HTMLModel",
      "state": {
       "layout": "IPY_MODEL_ec0f8752aa904857af87c3f08872bb34",
       "style": "IPY_MODEL_4be5b077b25c4b25bbe75dd015f36511",
       "value": " 154/154 [00:00&lt;00:00, 2322.59it/s]"
      }
     },
     "9783222edac34dbaa32f34cab16bf624": {
      "model_module": "@jupyter-widgets/controls",
      "model_module_version": "1.5.0",
      "model_name": "HTMLModel",
      "state": {
       "layout": "IPY_MODEL_a481ed36b96e425eb05b3bbe0f511836",
       "style": "IPY_MODEL_72f97c6c51cf48cb9e85373bbfc16dfb",
       "value": "100%"
      }
     },
     "9ba06d1dffec46baadcb286ad29bb88d": {
      "model_module": "@jupyter-widgets/base",
      "model_module_version": "1.2.0",
      "model_name": "LayoutModel",
      "state": {}
     },
     "9d1e3c89998f4985aea733a7a7491758": {
      "model_module": "@jupyter-widgets/controls",
      "model_module_version": "1.5.0",
      "model_name": "HTMLModel",
      "state": {
       "layout": "IPY_MODEL_6e50fb8af57d4127b6a8a78c94aa41fc",
       "style": "IPY_MODEL_0851002a66a54a5d8e9d2db375a00dd5",
       "value": " 154/154 [00:43&lt;00:00,  3.85it/s]"
      }
     },
     "9f31a2eaef5c4dcaa642cdd8280e5813": {
      "model_module": "@jupyter-widgets/controls",
      "model_module_version": "1.5.0",
      "model_name": "ProgressStyleModel",
      "state": {
       "description_width": ""
      }
     },
     "a481ed36b96e425eb05b3bbe0f511836": {
      "model_module": "@jupyter-widgets/base",
      "model_module_version": "1.2.0",
      "model_name": "LayoutModel",
      "state": {}
     },
     "ad7b951f20b4450793b4cf5051423aae": {
      "model_module": "@jupyter-widgets/controls",
      "model_module_version": "1.5.0",
      "model_name": "DescriptionStyleModel",
      "state": {
       "description_width": ""
      }
     },
     "b6c0c6bc336840febf785879f538c164": {
      "model_module": "@jupyter-widgets/controls",
      "model_module_version": "1.5.0",
      "model_name": "HBoxModel",
      "state": {
       "children": [
        "IPY_MODEL_4626a990604e45d0ac835744f74ce775",
        "IPY_MODEL_84a0c307c1cf485382c9c24acd9f4684",
        "IPY_MODEL_9d1e3c89998f4985aea733a7a7491758"
       ],
       "layout": "IPY_MODEL_9ba06d1dffec46baadcb286ad29bb88d"
      }
     },
     "c19dbf4c020d430299564b5c35578f36": {
      "model_module": "@jupyter-widgets/base",
      "model_module_version": "1.2.0",
      "model_name": "LayoutModel",
      "state": {}
     },
     "c98d97188af949faaec61a81af4c3537": {
      "model_module": "@jupyter-widgets/base",
      "model_module_version": "1.2.0",
      "model_name": "LayoutModel",
      "state": {}
     },
     "cf981c138551442e8e68107a3feec9d2": {
      "model_module": "@jupyter-widgets/controls",
      "model_module_version": "1.5.0",
      "model_name": "ProgressStyleModel",
      "state": {
       "description_width": ""
      }
     },
     "e9dd804c59874e2ea5c51cf4b8f8ff4a": {
      "model_module": "@jupyter-widgets/base",
      "model_module_version": "1.2.0",
      "model_name": "LayoutModel",
      "state": {}
     },
     "ec0f8752aa904857af87c3f08872bb34": {
      "model_module": "@jupyter-widgets/base",
      "model_module_version": "1.2.0",
      "model_name": "LayoutModel",
      "state": {}
     },
     "eda1e01b43e34639a755881460f06a28": {
      "model_module": "@jupyter-widgets/controls",
      "model_module_version": "1.5.0",
      "model_name": "DescriptionStyleModel",
      "state": {
       "description_width": ""
      }
     },
     "f3d77ecf69864bcab713940241517602": {
      "model_module": "@jupyter-widgets/base",
      "model_module_version": "1.2.0",
      "model_name": "LayoutModel",
      "state": {}
     },
     "f75898b363a046a5b63b449b0c799349": {
      "model_module": "@jupyter-widgets/base",
      "model_module_version": "1.2.0",
      "model_name": "LayoutModel",
      "state": {}
     }
    },
    "version_major": 2,
    "version_minor": 0
   }
  }
 },
 "nbformat": 4,
 "nbformat_minor": 5
}

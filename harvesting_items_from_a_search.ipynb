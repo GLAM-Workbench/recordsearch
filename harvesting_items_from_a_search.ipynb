{
 "cells": [
  {
   "cell_type": "markdown",
   "metadata": {},
   "source": [
    "# Harvest items from a search in RecordSearch\n",
    "\n",
    "Ever searched for items in RecordSearch and wanted to save the results as a CSV file, or in some other machine-readable format? This notebook makes it easy to save the results of an item search as a downloadable dataset. You can even download all the images from items that have been digitised, or save the complete files as PDFs!\n",
    "\n",
    "RecordSearch doesn't currently have an option for downloading machine-readable data. So to get collection metadata in a structured form, we have to resort of screen-scraping. This notebook uses the [RecordSearch Data Scraper](https://wragge.github.io/recordsearch_data_scraper/) to do most of the work.\n",
    "\n",
    "Notes:\n",
    "\n",
    "* The RecordSearch Data Scraper caches results to improve efficiency. This also makes it easy to resume a failed harvest. If you want to completely refresh a harvest, then delete the `cache_db.sqlite` file to start from scratch.\n",
    "* The harvesting function below automatically slices large searches (greater than 20,000 results) into smaller chunks. This avoids RecordSearch's 20,000 result limit. This should work in most cases. If it doesn't, try changing the `control_range` list below. This list supplies a range of prefixes which are supplied (with a trailing '*' for wildcard matches) as the `control` value."
   ]
  },
  {
   "cell_type": "markdown",
   "metadata": {
    "tags": []
   },
   "source": [
    "## Available search parameters\n",
    "\n",
    "The available search parameters are the same as those in RecordSearch's Advanced Search form. There's lots of them, but you'll probably only end up using a few like `kw` and `series`. Note that you can use \\* for wildcard searches as you can in the web interface. So setting `kw` to 'wragge\\*' will find both 'wragge' and 'wragges'.\n",
    "\n",
    "See the [RecordSearch Data Scraper documentation](https://wragge.github.io/recordsearch_data_scraper/scrapers.html#RSItemSearch) for more information on search parameters.\n",
    "\n",
    "* `kw` – string containing keywords to search for\n",
    "* `kw_options` – how to interpret `kw`, possible values are:\n",
    "    * 'ALL' – return results containing all of the keywords (default)\n",
    "    * 'ANY' – return results containg any of the keywords\n",
    "    * 'EXACT' – treat `kw` as a phrase rather than a list of words\n",
    "* `kw_exclude` – string containing keywords to exclude from search\n",
    "* `kw_exclude_options` – how to interpret `kw_exclude`, possible values are:\n",
    "    * 'ALL' – exclude results containing all of the keywords (default)\n",
    "    * 'ANY' – exclude results containg any of the keywords\n",
    "    * 'EXACT' – treat `kw_exact` as a phrase rather than a list of words\n",
    "* `search_notes` – set to 'on' to search item notes as well as metadata\n",
    "* `series` – search for items in this series\n",
    "* `series_exclude` – exclude items from this series\n",
    "* `control` – search for items matching this control symbol\n",
    "* `control_exclude` – exclude items matching this control symbol\n",
    "* `item_id` – search for items with this item ID number (formerly called `barcode`)\n",
    "* `date_from` – search for items with a date (year) greater than or equal to this, eg. '1935'\n",
    "* `date_to` – search for items with a date (year) less than or equal to this\n",
    "* `formats` – limit search to items in a particular format, see possible values below\n",
    "* `formats_exclude` – exclude items in a particular format, see possible values below\n",
    "* `locations` – limit search to items held in a particular location, see possible values below\n",
    "* `locations_exclude` – exclude items held in a particular location, see possible values below\n",
    "* `access` – limit to items with a particular access status, see possible values below\n",
    "* `access_exclude` – exclude items with a particular access status, see possible values below\n",
    "* `digital` – set to `True` to limit to items that are digitised\n",
    "\n",
    "\n",
    "Possible values for `formats` and `formats_exclude`: \n",
    "\n",
    "* 'Paper files and documents'\n",
    "* 'Index cards'\n",
    "* 'Bound volumes'\n",
    "* 'Cartographic records'\n",
    "* 'Photographs'\n",
    "* 'Microforms'\n",
    "* 'Audio-visual records'\n",
    "* 'Audio records'\n",
    "* 'Electronic records'\n",
    "* '3-dimensional records'\n",
    "* 'Scientific specimens'\n",
    "* 'Textiles'\n",
    "\n",
    "Possible values for `locations` and `locations_exclude`:\n",
    "\n",
    "* 'NAT, ACT'\n",
    "* 'Adelaide'\n",
    "* 'Australian War Memorial'\n",
    "* 'Brisbane'\n",
    "* 'Darwin'\n",
    "* 'Hobart'\n",
    "* 'Melbourne'\n",
    "* 'Perth'\n",
    "* 'Sydney'\n",
    "\n",
    "Possible values for `access` and `access_exclude`:\n",
    "\n",
    "* 'OPEN'\n",
    "* 'OWE'\n",
    "* 'CLOSED'\n",
    "* 'NYE'"
   ]
  },
  {
   "cell_type": "markdown",
   "metadata": {},
   "source": [
    "There are some additional parameters that affect the way the search results are delivered.\n",
    "\n",
    "* `record_detail` – controls the amount of information included in each item record, possible values:\n",
    "    * 'brief' (default) – just the info in the search results\n",
    "    * 'digitised' – add the number of pages if the file is digitised (slower)\n",
    "    * 'full' – get the full individual record for each result, includes number of digitised pages and access examination details (slowest)\n",
    "    \n",
    "Note that if you want to harvest all the digitised page images from a search, you need to set `record_detail` to either 'digitised' or 'full'."
   ]
  },
  {
   "cell_type": "markdown",
   "metadata": {},
   "source": [
    "## How your harvest is saved\n",
    "\n",
    "Once it's downloaded all the results, the harvesting function creates a directory for the harvest and saves three files inside:\n",
    "\n",
    "* `metadata.json` – this is a summary of your harvest, including the parameters you used and the date it was run\n",
    "* `results.ndjson` – this is the harvested data with each record saved as a JSON object on a new line\n",
    "* `results.csv` – the harvested data with any duplicates removed saved as a CSV file (if you've saved 'full' records, the list of `access_decision_reasons` will be saved as a pipe-separated string)\n",
    "\n",
    "The `metadata.json` file looks something like this:\n",
    "\n",
    "```json\n",
    "{\n",
    "    \"date_harvested\": \"2021-05-22T22:05:10.705184\", \n",
    "    \"search_params\": {\"results_per_page\": 20, \"sort\": 9, \"record_detail\": \"digitised\"}, \n",
    "    \"search_kwargs\": {\"kw\": \"wragge\"}, \n",
    "    \"total_results\": 208, \n",
    "    \"total_harvested\": 208,\n",
    "    \"total_deduplicated\": 208\n",
    "}\n",
    "```\n",
    "\n",
    "The 'total' values represent slightly different things:\n",
    "\n",
    "* `total_results`: the number of matching results RecordSearch thinks there are\n",
    "* `total_harvested`: the number of results actually harvested\n",
    "* `total_deduplicated`: the number of records left after duplicates are removed from the harvested results\n",
    "\n",
    "Duplicate records sometimes occur when items have an alternative control symbol. The CSV creation process removes any duplicates.\n",
    "\n",
    "The fields in the results files are:\n",
    "\n",
    "* `title`\n",
    "* `identifier` \n",
    "* `series` \n",
    "* `control_symbol`\n",
    "* `digitised_status`\n",
    "* `digitised_pages` – if `record_detail` is set to 'digitised' or 'full'\n",
    "* `access_status`\n",
    "* `access_decision_reasons` – if `record_detail` is set to 'full'\n",
    "* `location`\n",
    "* `retrieved` – date/time when this record was retrieved from RecordSearch\n",
    "* `contents_date_str`\n",
    "* `contents_start_date`\n",
    "* `contents_end_date`\n",
    "* `access_decision_date_str` – if `record_detail` is set to 'full'\n",
    "* `access_decision_date` – if `record_detail` is set to 'full'\n",
    "\n",
    "See below for information on saving digitised images and PDFs."
   ]
  },
  {
   "cell_type": "markdown",
   "metadata": {},
   "source": [
    "## Import what we need"
   ]
  },
  {
   "cell_type": "code",
   "execution_count": null,
   "metadata": {},
   "outputs": [],
   "source": [
    "import json\n",
    "import string\n",
    "import time\n",
    "from datetime import datetime\n",
    "from pathlib import Path\n",
    "\n",
    "import pandas as pd\n",
    "import requests\n",
    "from IPython.display import HTML, FileLink, display\n",
    "from recordsearch_data_scraper.scrapers import RSItemSearch\n",
    "from slugify import slugify\n",
    "from tqdm.auto import tqdm\n",
    "\n",
    "# This is a workaround for a problem with tqdm adding space to cells\n",
    "HTML(\n",
    "    \"\"\"\n",
    "    <style>\n",
    "    .p-Widget.jp-OutputPrompt.jp-OutputArea-prompt:empty {\n",
    "      padding: 0;\n",
    "      border: 0;\n",
    "    }\n",
    "    </style>\n",
    "\"\"\"\n",
    ")"
   ]
  },
  {
   "cell_type": "markdown",
   "metadata": {},
   "source": [
    "## Define some functions"
   ]
  },
  {
   "cell_type": "code",
   "execution_count": null,
   "metadata": {},
   "outputs": [],
   "source": [
    "# This is basically a list of letters and numbers that we can use to build up control symbol values.\n",
    "control_range = (\n",
    "    [str(number) for number in range(0, 10)]\n",
    "    + [letter for letter in string.ascii_uppercase]\n",
    "    + [\"/\"]\n",
    ")\n",
    "\n",
    "\n",
    "def get_results(data_dir, **kwargs):\n",
    "    \"\"\"\n",
    "    Save all the results from a search using the given parameters.\n",
    "    If there are more than 20,000 results, return False.\n",
    "    Otherwise, return the harvested items.\n",
    "    \"\"\"\n",
    "    s = RSItemSearch(**kwargs)\n",
    "    if s.total_results == \"20,000+\":\n",
    "        return False\n",
    "    else:\n",
    "        with tqdm(total=s.total_results, leave=False) as pbar:\n",
    "            more = True\n",
    "            while more:\n",
    "                data = s.get_results()\n",
    "                if data[\"results\"]:\n",
    "                    save_to_ndjson(data_dir, data[\"results\"])\n",
    "                    pbar.update(len(data[\"results\"]))\n",
    "                    time.sleep(0.5)\n",
    "                else:\n",
    "                    more = False\n",
    "        return True\n",
    "\n",
    "\n",
    "def refine_controls(current_control, data_dir, **kwargs):\n",
    "    \"\"\"\n",
    "    Add additional letters/numbers to the control symbol wildcard search\n",
    "    until the number of results is less than 20,000.\n",
    "    Then harvest the results.\n",
    "    Returns:\n",
    "        * the RSItemSearch object (containing the search params, total results etc)\n",
    "        * a list containing the harvested items\n",
    "    \"\"\"\n",
    "    for control in control_range:\n",
    "        new_control = current_control.strip(\"*\") + control + \"*\"\n",
    "        # print(new_control)\n",
    "        kwargs[\"control\"] = new_control\n",
    "        results = get_results(data_dir, **kwargs)\n",
    "        # print(total)\n",
    "        if results is False:\n",
    "            refine_controls(new_control, data_dir, **kwargs)\n",
    "\n",
    "\n",
    "def create_data_dir(search, today):\n",
    "    \"\"\"\n",
    "    Create a directory for the harvested data -- using the date and search parameters.\n",
    "    \"\"\"\n",
    "    params = search.params.copy()\n",
    "    params.update(search.kwargs)\n",
    "    search_param_str = slugify(\n",
    "        \"_\".join(\n",
    "            sorted(\n",
    "                [\n",
    "                    f\"{k}_{v}\"\n",
    "                    for k, v in params.items()\n",
    "                    if v is not None and k not in [\"results_per_page\", \"sort\"]\n",
    "                ]\n",
    "            )\n",
    "        )\n",
    "    )\n",
    "    data_dir = Path(\"harvests\", f'{today.strftime(\"%Y%m%d_%H%M%S\")}_{search_param_str}')\n",
    "    data_dir.mkdir(exist_ok=True, parents=True)\n",
    "    return data_dir\n",
    "\n",
    "\n",
    "def save_to_ndjson(data_dir, results):\n",
    "    \"\"\"\n",
    "    Save results into a single, newline delimited JSON file.\n",
    "    \"\"\"\n",
    "    output_file = Path(data_dir, \"results.ndjson\")\n",
    "    with output_file.open(\"a\") as ndjson_file:\n",
    "        for result in results:\n",
    "            ndjson_file.write(json.dumps(result) + \"\\n\")\n",
    "\n",
    "\n",
    "def save_metadata(search, data_dir, today, totals):\n",
    "    \"\"\"\n",
    "    Save information about the harvest to a JSON file.\n",
    "    \"\"\"\n",
    "    metadata = {\n",
    "        \"date_harvested\": today.isoformat(),\n",
    "        \"search_params\": search.params,\n",
    "        \"search_kwargs\": search.kwargs,\n",
    "        \"total_results\": search.total_results,\n",
    "        \"total_harvested\": totals[\"harvested\"],\n",
    "        \"total_after_deduplication\": totals[\"deduped\"],\n",
    "    }\n",
    "\n",
    "    with Path(data_dir, \"metadata.json\").open(\"w\") as md_file:\n",
    "        json.dump(metadata, md_file)\n",
    "\n",
    "\n",
    "def save_csv(data_dir):\n",
    "    \"\"\"\n",
    "    Save the harvested results as a CSV file, removing any duplicates.\n",
    "    \"\"\"\n",
    "    output_file = Path(data_dir, \"results.csv\")\n",
    "    input_file = Path(data_dir, \"results.ndjson\")\n",
    "    df = pd.read_json(input_file, lines=True)\n",
    "    harvested = df.shape[0]\n",
    "    # Flatten list\n",
    "    try:\n",
    "        df[\"access_decision_reasons\"] = (\n",
    "            df[\"access_decision_reasons\"].dropna().apply(lambda l: \" | \".join(l))\n",
    "        )\n",
    "    except KeyError:\n",
    "        pass\n",
    "    # Remove any duplicates\n",
    "    df.drop_duplicates(inplace=True)\n",
    "    df.to_csv(output_file, index=False)\n",
    "    deduped = df.shape[0]\n",
    "    return {\"harvested\": harvested, \"deduped\": deduped}\n",
    "\n",
    "\n",
    "def harvest_search(**kwargs):\n",
    "    \"\"\"\n",
    "    Harvest all the items from a search using the supplied parameters.\n",
    "    If there are more than 20,000 results, it will use control symbol\n",
    "    wildcard values to try and split the results into harvestable chunks.\n",
    "    \"\"\"\n",
    "    # Initialise the search\n",
    "    search = RSItemSearch(**kwargs)\n",
    "    today = datetime.now()\n",
    "    data_dir = create_data_dir(search, today)\n",
    "    # If there are more than 20,000 results, try chunking using control symbols\n",
    "    if search.total_results == \"20,000+\":\n",
    "        # Loop through the letters and numbers\n",
    "        for control in control_range:\n",
    "            # print(control)\n",
    "            # Add letter/number as a wildcard value\n",
    "            kwargs[\"control\"] = f\"{control}*\"\n",
    "            # Try getting the results\n",
    "            results = get_results(data_dir, **kwargs)\n",
    "            # print(results)\n",
    "            if results is False:\n",
    "                # If there's still more than 20,000, add more letters/numbers to the control symbol!\n",
    "                refine_controls(control, data_dir, **kwargs)\n",
    "    # If there's less than 20,000 results, save them all\n",
    "    else:\n",
    "        get_results(data_dir, **kwargs)\n",
    "    totals = save_csv(data_dir)\n",
    "    save_metadata(search, data_dir, today, totals)\n",
    "    print(f\"Harvest directory: {data_dir}\")\n",
    "    display(FileLink(Path(data_dir, \"metadata.json\")))\n",
    "    display(FileLink(Path(data_dir, \"results.ndjson\")))\n",
    "    display(FileLink(Path(data_dir, \"results.csv\")))\n",
    "    return data_dir\n",
    "\n",
    "\n",
    "def save_images(harvest_dir):\n",
    "    df = pd.read_csv(Path(harvest_dir, \"results.csv\"))\n",
    "    with tqdm(\n",
    "        total=df.loc[df[\"digitised_status\"] == True].shape[0], desc=\"Files\"\n",
    "    ) as pbar:\n",
    "        for item in df.loc[df[\"digitised_status\"] == True].itertuples():\n",
    "            image_dir = Path(\n",
    "                f\"{harvest_dir}/images/{slugify(item.series)}-{slugify(str(item.control_symbol))}-{item.identifier}\"\n",
    "            )\n",
    "\n",
    "            # Create the folder (and parent if necessary)\n",
    "            image_dir.mkdir(exist_ok=True, parents=True)\n",
    "\n",
    "            # Loop through the page numbers\n",
    "            for page in tqdm(\n",
    "                range(1, int(item.digitised_pages) + 1), desc=\"Images\", leave=False\n",
    "            ):\n",
    "\n",
    "                # Define the image filename using the barcode and page number\n",
    "                filename = Path(f\"{image_dir}/{item.identifier}-{page}.jpg\")\n",
    "\n",
    "                # Check to see if the image already exists (useful if rerunning a failed harvest)\n",
    "                if not filename.exists():\n",
    "                    # If it doens't already exist then download it\n",
    "                    img_url = f\"https://recordsearch.naa.gov.au/NaaMedia/ShowImage.asp?B={item.identifier}&S={page}&T=P\"\n",
    "                    response = requests.get(img_url)\n",
    "                    try:\n",
    "                        response.raise_for_status()\n",
    "                    except requests.exceptions.HTTPError:\n",
    "                        pass\n",
    "                    else:\n",
    "                        filename.write_bytes(response.content)\n",
    "\n",
    "                    time.sleep(0.5)\n",
    "            pbar.update(1)\n",
    "\n",
    "\n",
    "def save_pdfs(harvest_dir):\n",
    "    df = pd.read_csv(Path(harvest_dir, \"results.csv\"))\n",
    "    pdf_dir = Path(harvest_dir, \"pdfs\")\n",
    "    pdf_dir.mkdir(exist_ok=True, parents=True)\n",
    "    with tqdm(\n",
    "        total=df.loc[df[\"digitised_status\"] == True].shape[0], desc=\"Files\"\n",
    "    ) as pbar:\n",
    "        for item in df.loc[df[\"digitised_status\"] == True].itertuples():\n",
    "            pdf_file = Path(\n",
    "                pdf_dir,\n",
    "                f\"{slugify(item.series)}-{slugify(str(item.control_symbol))}-{item.identifier}.pdf\",\n",
    "            )\n",
    "            if not pdf_file.exists():\n",
    "                pdf_url = f\"https://recordsearch.naa.gov.au/SearchNRetrieve/NAAMedia/ViewPDF.aspx?B={item.identifier}&D=D\"\n",
    "                response = requests.get(pdf_url)\n",
    "                try:\n",
    "                    response.raise_for_status()\n",
    "                except requests.exceptions.HTTPError:\n",
    "                    pass\n",
    "                else:\n",
    "                    pdf_file.write_bytes(response.content)\n",
    "                time.sleep(0.5)\n",
    "            pbar.update(1)"
   ]
  },
  {
   "cell_type": "markdown",
   "metadata": {},
   "source": [
    "## Start a harvest\n",
    "\n",
    "Insert your search parameters in the brackets below.\n",
    "\n",
    "Examples:\n",
    "\n",
    "* `search, items = harvest_search(kw='rabbit')`\n",
    "* `search, items = harvest_search(kw='rabbit', digital=True)`\n",
    "* `search, items = harvest_search(record_detail='full', kw='rabbit', series='A1)`\n",
    "* `search, items = harvest_search(series='B13')`\n",
    "\n",
    "If you're running a long harvest, there's a good chance it will get interrupted at some point. Don't worry, just run the cell above again. The scraper caches your results, so it won't need to start from scratch."
   ]
  },
  {
   "cell_type": "code",
   "execution_count": null,
   "metadata": {},
   "outputs": [],
   "source": [
    "data_dir = harvest_search(kw=\"wragge exhibit\", record_detail=\"digitised\")"
   ]
  },
  {
   "cell_type": "markdown",
   "metadata": {
    "tags": [
     "nbval-skip"
    ]
   },
   "source": [
    "## Saving images from digitised files\n",
    "\n",
    "Once you've saved all the metadata from your search, you can use it to download images from all the items that have been digitised.\n",
    "\n",
    "Note that you can only save the images if you set the `record_detail` parameter to 'digitised' or 'full' in the original harvest.\n",
    "\n",
    "The function below will look for all items that have a `digitised_pages` value in the harvest results, and then download an image for each page. The images will be saved in an `images` subdirectory, inside the original harvest directory."
   ]
  },
  {
   "cell_type": "code",
   "execution_count": null,
   "metadata": {
    "tags": [
     "nbval-skip"
    ]
   },
   "outputs": [],
   "source": [
    "# Supply the path to the directory containing the harvested data\n",
    "# This is the value returned by the `harvest_search()` function.\n",
    "# eg: 'harvests/20210522_digital_True_kw_wragge_record_detail_full'\n",
    "save_images(data_dir)"
   ]
  },
  {
   "cell_type": "markdown",
   "metadata": {},
   "source": [
    "## Saving digitised files as PDFs\n",
    "\n",
    "You can also save digitised files as PDFs. The function below will save any digisted files in the results to a `pdfs` subdirectory within the harvest directory."
   ]
  },
  {
   "cell_type": "code",
   "execution_count": null,
   "metadata": {
    "tags": [
     "nbval-skip"
    ]
   },
   "outputs": [],
   "source": [
    "# Supply the path to the directory containing the harvested data\n",
    "# This is the value returned by the `harvest_search()` function.\n",
    "# eg: 'harvests/20210522_digital_True_kw_wragge_record_detail_full'\n",
    "save_pdfs(data_dir)"
   ]
  },
  {
   "cell_type": "markdown",
   "metadata": {},
   "source": [
    "----\n",
    "\n",
    "Created by [Tim Sherratt](https://timsherratt.org/) for the [GLAM Workbench](https://glam-workbench.github.io/). Support me by becoming a [GitHub sponsor](https://github.com/sponsors/wragge)!"
   ]
  }
 ],
 "metadata": {
  "kernelspec": {
   "display_name": "Python 3 (ipykernel)",
   "language": "python",
   "name": "python3"
  },
  "language_info": {
   "codemirror_mode": {
    "name": "ipython",
    "version": 3
   },
   "file_extension": ".py",
   "mimetype": "text/x-python",
   "name": "python",
   "nbconvert_exporter": "python",
   "pygments_lexer": "ipython3",
   "version": "3.8.12"
  },
  "widgets": {
   "application/vnd.jupyter.widget-state+json": {
    "state": {
     "005f061351f94d10aa20a389dd7a25c7": {
      "model_module": "@jupyter-widgets/controls",
      "model_module_version": "1.5.0",
      "model_name": "DescriptionStyleModel",
      "state": {
       "description_width": ""
      }
     },
     "022e77e8805141c2bc7d6584c8235bed": {
      "model_module": "@jupyter-widgets/base",
      "model_module_version": "1.2.0",
      "model_name": "LayoutModel",
      "state": {}
     },
     "027b31ff66f84b2fbca2f7dcca58d177": {
      "model_module": "@jupyter-widgets/controls",
      "model_module_version": "1.5.0",
      "model_name": "FloatProgressModel",
      "state": {
       "bar_style": "danger",
       "layout": "IPY_MODEL_7e0cff68917e49c786da6319e9d57e25",
       "max": 38,
       "style": "IPY_MODEL_851f533d6b21434dab0241d26f5aba8c"
      }
     },
     "031d56b89aa546468e94ae3494c82ef8": {
      "model_module": "@jupyter-widgets/base",
      "model_module_version": "1.2.0",
      "model_name": "LayoutModel",
      "state": {}
     },
     "05eeeda0105f431da023c75a3daa0a0d": {
      "model_module": "@jupyter-widgets/base",
      "model_module_version": "1.2.0",
      "model_name": "LayoutModel",
      "state": {}
     },
     "0656e65482824ccc9dad5fca79281b1f": {
      "model_module": "@jupyter-widgets/controls",
      "model_module_version": "1.5.0",
      "model_name": "HBoxModel",
      "state": {
       "children": [
        "IPY_MODEL_27730899529e40cf812e0734ed513f95",
        "IPY_MODEL_0a804d0c61ff4c69b811cf5902e68d5e",
        "IPY_MODEL_4ef6db29801f4d4eb952d6b34915836f"
       ],
       "layout": "IPY_MODEL_022e77e8805141c2bc7d6584c8235bed"
      }
     },
     "07241c2cea6e414388011851a25fee5c": {
      "model_module": "@jupyter-widgets/base",
      "model_module_version": "1.2.0",
      "model_name": "LayoutModel",
      "state": {}
     },
     "0758e66880614d659ed7189f981e205e": {
      "model_module": "@jupyter-widgets/controls",
      "model_module_version": "1.5.0",
      "model_name": "HBoxModel",
      "state": {
       "children": [
        "IPY_MODEL_09f05a8043d1411f9a3376591ab8c0dd",
        "IPY_MODEL_027b31ff66f84b2fbca2f7dcca58d177",
        "IPY_MODEL_b8bf2d870f744137a023fe9e205e33c1"
       ],
       "layout": "IPY_MODEL_6cb0bf982e10497b88edf7292132228b"
      }
     },
     "07a0a67da1514b00bd4461edabd939d4": {
      "model_module": "@jupyter-widgets/controls",
      "model_module_version": "1.5.0",
      "model_name": "DescriptionStyleModel",
      "state": {
       "description_width": ""
      }
     },
     "09f05a8043d1411f9a3376591ab8c0dd": {
      "model_module": "@jupyter-widgets/controls",
      "model_module_version": "1.5.0",
      "model_name": "HTMLModel",
      "state": {
       "layout": "IPY_MODEL_3787d5f53a684270853b4e01d81868ee",
       "style": "IPY_MODEL_07a0a67da1514b00bd4461edabd939d4",
       "value": "Files:   0%"
      }
     },
     "0a804d0c61ff4c69b811cf5902e68d5e": {
      "model_module": "@jupyter-widgets/controls",
      "model_module_version": "1.5.0",
      "model_name": "FloatProgressModel",
      "state": {
       "bar_style": "success",
       "layout": "IPY_MODEL_e73d34aebc51497abe15f24afd8a8410",
       "max": 3,
       "style": "IPY_MODEL_c35d6e58866c4597bde0b542668fe39a",
       "value": 3
      }
     },
     "0d541da9f5dc4f9098331e38bcc08f05": {
      "model_module": "@jupyter-widgets/base",
      "model_module_version": "1.2.0",
      "model_name": "LayoutModel",
      "state": {}
     },
     "0dad8924845b411a9893ee4fedcf930f": {
      "model_module": "@jupyter-widgets/base",
      "model_module_version": "1.2.0",
      "model_name": "LayoutModel",
      "state": {}
     },
     "0e2be6e510984796a2ae5ca5dbb568be": {
      "model_module": "@jupyter-widgets/controls",
      "model_module_version": "1.5.0",
      "model_name": "FloatProgressModel",
      "state": {
       "layout": "IPY_MODEL_e3d3f0162a804a32a7503b7aeda2406c",
       "max": 212,
       "style": "IPY_MODEL_2d8f90e5490747888e20b3793b3ab6a3",
       "value": 212
      }
     },
     "0e8a5c657f3648ab9c774ccbdd10c02c": {
      "model_module": "@jupyter-widgets/base",
      "model_module_version": "1.2.0",
      "model_name": "LayoutModel",
      "state": {}
     },
     "0ee290bdffc0488697b907e12a0531db": {
      "model_module": "@jupyter-widgets/controls",
      "model_module_version": "1.5.0",
      "model_name": "ProgressStyleModel",
      "state": {
       "description_width": ""
      }
     },
     "0f4974aff52c4d72afbea9c6e04c738b": {
      "model_module": "@jupyter-widgets/controls",
      "model_module_version": "1.5.0",
      "model_name": "HTMLModel",
      "state": {
       "layout": "IPY_MODEL_05eeeda0105f431da023c75a3daa0a0d",
       "style": "IPY_MODEL_5a63e43932b14ea8aec7d7f952a55f83",
       "value": "Images: 100%"
      }
     },
     "104d79dc06df487892848c4f33eb7c8f": {
      "model_module": "@jupyter-widgets/base",
      "model_module_version": "1.2.0",
      "model_name": "LayoutModel",
      "state": {}
     },
     "11e4f697ad25412688e351271de2e724": {
      "model_module": "@jupyter-widgets/base",
      "model_module_version": "1.2.0",
      "model_name": "LayoutModel",
      "state": {}
     },
     "1234fa0f645e487d8f74de3c359e9d9d": {
      "model_module": "@jupyter-widgets/base",
      "model_module_version": "1.2.0",
      "model_name": "LayoutModel",
      "state": {}
     },
     "128324d8bf3c4f2a9a9109466a0aa334": {
      "model_module": "@jupyter-widgets/controls",
      "model_module_version": "1.5.0",
      "model_name": "DescriptionStyleModel",
      "state": {
       "description_width": ""
      }
     },
     "13f668d8c3d643e3b0cb202156ff8a79": {
      "model_module": "@jupyter-widgets/base",
      "model_module_version": "1.2.0",
      "model_name": "LayoutModel",
      "state": {}
     },
     "174755f80237400ea49cd755019164e3": {
      "model_module": "@jupyter-widgets/controls",
      "model_module_version": "1.5.0",
      "model_name": "ProgressStyleModel",
      "state": {
       "description_width": ""
      }
     },
     "17c20bdc7d6a4f0f82b2cd883f0002af": {
      "model_module": "@jupyter-widgets/base",
      "model_module_version": "1.2.0",
      "model_name": "LayoutModel",
      "state": {}
     },
     "20d4ec5938224961aa84f014a14da064": {
      "model_module": "@jupyter-widgets/base",
      "model_module_version": "1.2.0",
      "model_name": "LayoutModel",
      "state": {}
     },
     "251a5c6504b14160aa70f97c33969e18": {
      "model_module": "@jupyter-widgets/controls",
      "model_module_version": "1.5.0",
      "model_name": "DescriptionStyleModel",
      "state": {
       "description_width": ""
      }
     },
     "27730899529e40cf812e0734ed513f95": {
      "model_module": "@jupyter-widgets/controls",
      "model_module_version": "1.5.0",
      "model_name": "HTMLModel",
      "state": {
       "layout": "IPY_MODEL_0dad8924845b411a9893ee4fedcf930f",
       "style": "IPY_MODEL_7d633592ae81490dbc18efbbcabed4c0",
       "value": "Files: 100%"
      }
     },
     "2b6d800f538d47f3b38ddd5c3f27c169": {
      "model_module": "@jupyter-widgets/controls",
      "model_module_version": "1.5.0",
      "model_name": "FloatProgressModel",
      "state": {
       "layout": "IPY_MODEL_f2d65399930f41b38ba74c27197da40b",
       "max": 15,
       "style": "IPY_MODEL_d0f26d1a755a474185d9ff2365ef3a4c",
       "value": 15
      }
     },
     "2b94c23326bc4ec99520fecf61df8e06": {
      "model_module": "@jupyter-widgets/controls",
      "model_module_version": "1.5.0",
      "model_name": "HTMLModel",
      "state": {
       "layout": "IPY_MODEL_a1ba30eb68b44dbcac146f2e9b142166",
       "style": "IPY_MODEL_917d3e07b39a45e99e4a92be45ffa9ca",
       "value": "100%"
      }
     },
     "2d5f83719b264af1bf077cc19bd309f2": {
      "model_module": "@jupyter-widgets/base",
      "model_module_version": "1.2.0",
      "model_name": "LayoutModel",
      "state": {}
     },
     "2d8f90e5490747888e20b3793b3ab6a3": {
      "model_module": "@jupyter-widgets/controls",
      "model_module_version": "1.5.0",
      "model_name": "ProgressStyleModel",
      "state": {
       "description_width": ""
      }
     },
     "2eb274c075ea450c9e3c2c24d527144d": {
      "model_module": "@jupyter-widgets/controls",
      "model_module_version": "1.5.0",
      "model_name": "DescriptionStyleModel",
      "state": {
       "description_width": ""
      }
     },
     "2ef8323c8fac414e887563aa3bb9eebc": {
      "model_module": "@jupyter-widgets/base",
      "model_module_version": "1.2.0",
      "model_name": "LayoutModel",
      "state": {}
     },
     "2fa332c64add48e199fb7929458f666b": {
      "model_module": "@jupyter-widgets/base",
      "model_module_version": "1.2.0",
      "model_name": "LayoutModel",
      "state": {}
     },
     "33bdcf03a8a641009e095e2f3cda43c0": {
      "model_module": "@jupyter-widgets/controls",
      "model_module_version": "1.5.0",
      "model_name": "ProgressStyleModel",
      "state": {
       "description_width": ""
      }
     },
     "3519ceb3d1634e6e90832ea27a2fa90e": {
      "model_module": "@jupyter-widgets/controls",
      "model_module_version": "1.5.0",
      "model_name": "HTMLModel",
      "state": {
       "layout": "IPY_MODEL_cccc44137a324cf39d61920b596feb02",
       "style": "IPY_MODEL_2eb274c075ea450c9e3c2c24d527144d",
       "value": " 212/212 [00:05&lt;00:00, 34.88it/s]"
      }
     },
     "35f76aeae462456d8d047be43c402204": {
      "model_module": "@jupyter-widgets/controls",
      "model_module_version": "1.5.0",
      "model_name": "FloatProgressModel",
      "state": {
       "bar_style": "danger",
       "layout": "IPY_MODEL_c39b95211eff4255a3d6a5f9bab2fa1a",
       "max": 41,
       "style": "IPY_MODEL_ff699654974b45eb89d9984d881f1977",
       "value": 3
      }
     },
     "3787d5f53a684270853b4e01d81868ee": {
      "model_module": "@jupyter-widgets/base",
      "model_module_version": "1.2.0",
      "model_name": "LayoutModel",
      "state": {}
     },
     "39f582fcaf0248f0872d9859b7497b38": {
      "model_module": "@jupyter-widgets/controls",
      "model_module_version": "1.5.0",
      "model_name": "HTMLModel",
      "state": {
       "layout": "IPY_MODEL_cc8d2d0e840f498f9d071c62e8d62715",
       "style": "IPY_MODEL_5b0dbbc5aca74c76b86a32c2d3eb377a",
       "value": "Images: 100%"
      }
     },
     "3a46d8aada8b4463811961e072125c69": {
      "model_module": "@jupyter-widgets/controls",
      "model_module_version": "1.5.0",
      "model_name": "HTMLModel",
      "state": {
       "layout": "IPY_MODEL_13f668d8c3d643e3b0cb202156ff8a79",
       "style": "IPY_MODEL_e5b5dce3bc624fc19565df6afa224560",
       "value": " 212/212 [00:34&lt;00:00, 13.99it/s]"
      }
     },
     "3adabb04a32d46f9a586882e7a522467": {
      "model_module": "@jupyter-widgets/controls",
      "model_module_version": "1.5.0",
      "model_name": "HTMLModel",
      "state": {
       "layout": "IPY_MODEL_9b2a1dbe4d084a379fdee0de680ded04",
       "style": "IPY_MODEL_5ecdba33b4db4bcbaef091d38f4da2bb",
       "value": "Images: 100%"
      }
     },
     "3c8c21ebc0f54d59b69089e46236f1e3": {
      "model_module": "@jupyter-widgets/controls",
      "model_module_version": "1.5.0",
      "model_name": "HTMLModel",
      "state": {
       "layout": "IPY_MODEL_99daefcb34fd404385423a702d4a46ec",
       "style": "IPY_MODEL_588d19c350df4d41a7b13108f9cde7e9",
       "value": "100%"
      }
     },
     "3d5e927040f74c9086fd5250481c420b": {
      "model_module": "@jupyter-widgets/controls",
      "model_module_version": "1.5.0",
      "model_name": "ProgressStyleModel",
      "state": {
       "description_width": ""
      }
     },
     "3e2efff98e374d8fa2090779e68543e5": {
      "model_module": "@jupyter-widgets/base",
      "model_module_version": "1.2.0",
      "model_name": "LayoutModel",
      "state": {}
     },
     "42200ae50c7e453d8b6122958b484da3": {
      "model_module": "@jupyter-widgets/controls",
      "model_module_version": "1.5.0",
      "model_name": "DescriptionStyleModel",
      "state": {
       "description_width": ""
      }
     },
     "424b1a2ac6ab4f3d9f2b76bc46dae450": {
      "model_module": "@jupyter-widgets/controls",
      "model_module_version": "1.5.0",
      "model_name": "ProgressStyleModel",
      "state": {
       "description_width": ""
      }
     },
     "44e0f4c698794d789e79476c71ef62bc": {
      "model_module": "@jupyter-widgets/base",
      "model_module_version": "1.2.0",
      "model_name": "LayoutModel",
      "state": {}
     },
     "462f70669de342b2b5b4150b97e26171": {
      "model_module": "@jupyter-widgets/controls",
      "model_module_version": "1.5.0",
      "model_name": "DescriptionStyleModel",
      "state": {
       "description_width": ""
      }
     },
     "48026654e79b435f8f6571717d9a8455": {
      "model_module": "@jupyter-widgets/base",
      "model_module_version": "1.2.0",
      "model_name": "LayoutModel",
      "state": {}
     },
     "488775b4ecef47939dec39a8290cc34b": {
      "model_module": "@jupyter-widgets/controls",
      "model_module_version": "1.5.0",
      "model_name": "DescriptionStyleModel",
      "state": {
       "description_width": ""
      }
     },
     "4989118c029644d9892b1a34f2f3f28b": {
      "model_module": "@jupyter-widgets/controls",
      "model_module_version": "1.5.0",
      "model_name": "HBoxModel",
      "state": {
       "children": [
        "IPY_MODEL_b8bd2ab528904c34b246c7e16e3cde56",
        "IPY_MODEL_dcfb5879412d4da7bcac701c50fbb776",
        "IPY_MODEL_c43815549e9e4dc995b688396bcd14a1"
       ],
       "layout": "IPY_MODEL_969ace036cb64a0ca710ed66867fe808"
      }
     },
     "4a65fa92600e4a409df2623dc42026fd": {
      "model_module": "@jupyter-widgets/controls",
      "model_module_version": "1.5.0",
      "model_name": "DescriptionStyleModel",
      "state": {
       "description_width": ""
      }
     },
     "4bd624f36ea948669d1d827573898510": {
      "model_module": "@jupyter-widgets/controls",
      "model_module_version": "1.5.0",
      "model_name": "HBoxModel",
      "state": {
       "children": [
        "IPY_MODEL_855b96231e334c7a86b61876232ccc80",
        "IPY_MODEL_35f76aeae462456d8d047be43c402204",
        "IPY_MODEL_b3e67e56a8fc4caab6be24019ef2b031"
       ],
       "layout": "IPY_MODEL_d76fb67561c7438f963745c5219365c5"
      }
     },
     "4d6087ac533d4f23b582b0e861d7a463": {
      "model_module": "@jupyter-widgets/base",
      "model_module_version": "1.2.0",
      "model_name": "LayoutModel",
      "state": {}
     },
     "4ef6db29801f4d4eb952d6b34915836f": {
      "model_module": "@jupyter-widgets/controls",
      "model_module_version": "1.5.0",
      "model_name": "HTMLModel",
      "state": {
       "layout": "IPY_MODEL_07241c2cea6e414388011851a25fee5c",
       "style": "IPY_MODEL_71d41c02d3be44f0945bad0558cd84e7",
       "value": " 3/3 [00:07&lt;00:00,  2.70s/it]"
      }
     },
     "505931b16be84cbc8503ea5e970395bb": {
      "model_module": "@jupyter-widgets/controls",
      "model_module_version": "1.5.0",
      "model_name": "ProgressStyleModel",
      "state": {
       "description_width": ""
      }
     },
     "53c4249edcbd47248a6afa2d193b24ad": {
      "model_module": "@jupyter-widgets/base",
      "model_module_version": "1.2.0",
      "model_name": "LayoutModel",
      "state": {}
     },
     "57572b309ae0488ebb437e41e3663509": {
      "model_module": "@jupyter-widgets/controls",
      "model_module_version": "1.5.0",
      "model_name": "DescriptionStyleModel",
      "state": {
       "description_width": ""
      }
     },
     "588d19c350df4d41a7b13108f9cde7e9": {
      "model_module": "@jupyter-widgets/controls",
      "model_module_version": "1.5.0",
      "model_name": "DescriptionStyleModel",
      "state": {
       "description_width": ""
      }
     },
     "58e8e75625e248c69a5347c572be5c0a": {
      "model_module": "@jupyter-widgets/controls",
      "model_module_version": "1.5.0",
      "model_name": "DescriptionStyleModel",
      "state": {
       "description_width": ""
      }
     },
     "5999f68c384743c6b3f157798e26ea1d": {
      "model_module": "@jupyter-widgets/base",
      "model_module_version": "1.2.0",
      "model_name": "LayoutModel",
      "state": {}
     },
     "5a63e43932b14ea8aec7d7f952a55f83": {
      "model_module": "@jupyter-widgets/controls",
      "model_module_version": "1.5.0",
      "model_name": "DescriptionStyleModel",
      "state": {
       "description_width": ""
      }
     },
     "5b0dbbc5aca74c76b86a32c2d3eb377a": {
      "model_module": "@jupyter-widgets/controls",
      "model_module_version": "1.5.0",
      "model_name": "DescriptionStyleModel",
      "state": {
       "description_width": ""
      }
     },
     "5ecdba33b4db4bcbaef091d38f4da2bb": {
      "model_module": "@jupyter-widgets/controls",
      "model_module_version": "1.5.0",
      "model_name": "DescriptionStyleModel",
      "state": {
       "description_width": ""
      }
     },
     "6002f88532b74e25a6d1451b4b39809c": {
      "model_module": "@jupyter-widgets/base",
      "model_module_version": "1.2.0",
      "model_name": "LayoutModel",
      "state": {}
     },
     "693ffc258d87493ab9bf2d20988a40d1": {
      "model_module": "@jupyter-widgets/base",
      "model_module_version": "1.2.0",
      "model_name": "LayoutModel",
      "state": {}
     },
     "6cb0bf982e10497b88edf7292132228b": {
      "model_module": "@jupyter-widgets/base",
      "model_module_version": "1.2.0",
      "model_name": "LayoutModel",
      "state": {}
     },
     "6e52a9edb64e4095aa1b697fa9e1c0bf": {
      "model_module": "@jupyter-widgets/controls",
      "model_module_version": "1.5.0",
      "model_name": "DescriptionStyleModel",
      "state": {
       "description_width": ""
      }
     },
     "6e55ba16d69b4feca2c5a585da51ffe8": {
      "model_module": "@jupyter-widgets/base",
      "model_module_version": "1.2.0",
      "model_name": "LayoutModel",
      "state": {}
     },
     "6f4f96eb7f8849dc8080ba960acf6449": {
      "model_module": "@jupyter-widgets/base",
      "model_module_version": "1.2.0",
      "model_name": "LayoutModel",
      "state": {}
     },
     "70ea29726f5d4543a9b5fe043437b682": {
      "model_module": "@jupyter-widgets/base",
      "model_module_version": "1.2.0",
      "model_name": "LayoutModel",
      "state": {}
     },
     "71324f19acb8422696e543b1225ecf2d": {
      "model_module": "@jupyter-widgets/controls",
      "model_module_version": "1.5.0",
      "model_name": "HBoxModel",
      "state": {
       "children": [
        "IPY_MODEL_752f17a2f37b42c8afc2aad198dc6ebe",
        "IPY_MODEL_ff52119c49544ba3b2d8c3ddb80e4b52",
        "IPY_MODEL_900fc9879a054dc793c803fa00c99d72"
       ],
       "layout": "IPY_MODEL_5999f68c384743c6b3f157798e26ea1d"
      }
     },
     "717ce9568c0e4fed903298a989ffdd87": {
      "model_module": "@jupyter-widgets/controls",
      "model_module_version": "1.5.0",
      "model_name": "HTMLModel",
      "state": {
       "layout": "IPY_MODEL_11e4f697ad25412688e351271de2e724",
       "style": "IPY_MODEL_251a5c6504b14160aa70f97c33969e18",
       "value": " 3/3 [00:00&lt;00:00,  9.17it/s]"
      }
     },
     "71d41c02d3be44f0945bad0558cd84e7": {
      "model_module": "@jupyter-widgets/controls",
      "model_module_version": "1.5.0",
      "model_name": "DescriptionStyleModel",
      "state": {
       "description_width": ""
      }
     },
     "752f17a2f37b42c8afc2aad198dc6ebe": {
      "model_module": "@jupyter-widgets/controls",
      "model_module_version": "1.5.0",
      "model_name": "HTMLModel",
      "state": {
       "layout": "IPY_MODEL_2d5f83719b264af1bf077cc19bd309f2",
       "style": "IPY_MODEL_cccf5fc50b724b5fb8b3a567b930204a",
       "value": "Images:   7%"
      }
     },
     "77e2d6b6c9424e2aaa2860fc9c10cdac": {
      "model_module": "@jupyter-widgets/controls",
      "model_module_version": "1.5.0",
      "model_name": "ProgressStyleModel",
      "state": {
       "description_width": ""
      }
     },
     "782e079723b041428c2470f26dfcb9b3": {
      "model_module": "@jupyter-widgets/base",
      "model_module_version": "1.2.0",
      "model_name": "LayoutModel",
      "state": {}
     },
     "78b2f9d7cd1748e0bdca8f336043acab": {
      "model_module": "@jupyter-widgets/base",
      "model_module_version": "1.2.0",
      "model_name": "LayoutModel",
      "state": {}
     },
     "794c6dab735845a2ba4e5ccee7771122": {
      "model_module": "@jupyter-widgets/controls",
      "model_module_version": "1.5.0",
      "model_name": "HTMLModel",
      "state": {
       "layout": "IPY_MODEL_0d541da9f5dc4f9098331e38bcc08f05",
       "style": "IPY_MODEL_005f061351f94d10aa20a389dd7a25c7",
       "value": "Images: 100%"
      }
     },
     "7cefd52bf9e54221963a13c6bfc13e80": {
      "model_module": "@jupyter-widgets/controls",
      "model_module_version": "1.5.0",
      "model_name": "FloatProgressModel",
      "state": {
       "layout": "IPY_MODEL_7db1d15a260447ce9ee5df9065a0afe7",
       "max": 15,
       "style": "IPY_MODEL_3d5e927040f74c9086fd5250481c420b",
       "value": 15
      }
     },
     "7d633592ae81490dbc18efbbcabed4c0": {
      "model_module": "@jupyter-widgets/controls",
      "model_module_version": "1.5.0",
      "model_name": "DescriptionStyleModel",
      "state": {
       "description_width": ""
      }
     },
     "7db1d15a260447ce9ee5df9065a0afe7": {
      "model_module": "@jupyter-widgets/base",
      "model_module_version": "1.2.0",
      "model_name": "LayoutModel",
      "state": {}
     },
     "7e0cff68917e49c786da6319e9d57e25": {
      "model_module": "@jupyter-widgets/base",
      "model_module_version": "1.2.0",
      "model_name": "LayoutModel",
      "state": {}
     },
     "8172964849964c2d8c7a86362927020f": {
      "model_module": "@jupyter-widgets/base",
      "model_module_version": "1.2.0",
      "model_name": "LayoutModel",
      "state": {}
     },
     "831c0d7c691148ee92737853ea050a9f": {
      "model_module": "@jupyter-widgets/controls",
      "model_module_version": "1.5.0",
      "model_name": "DescriptionStyleModel",
      "state": {
       "description_width": ""
      }
     },
     "851f533d6b21434dab0241d26f5aba8c": {
      "model_module": "@jupyter-widgets/controls",
      "model_module_version": "1.5.0",
      "model_name": "ProgressStyleModel",
      "state": {
       "description_width": ""
      }
     },
     "855b96231e334c7a86b61876232ccc80": {
      "model_module": "@jupyter-widgets/controls",
      "model_module_version": "1.5.0",
      "model_name": "HTMLModel",
      "state": {
       "layout": "IPY_MODEL_8172964849964c2d8c7a86362927020f",
       "style": "IPY_MODEL_eaa397faaa7c4931b7f2eda9ed380f71",
       "value": "Files:   7%"
      }
     },
     "879d456ea88a42e896c43912979c5e65": {
      "model_module": "@jupyter-widgets/base",
      "model_module_version": "1.2.0",
      "model_name": "LayoutModel",
      "state": {}
     },
     "8927532261a349f6a381138d06008642": {
      "model_module": "@jupyter-widgets/base",
      "model_module_version": "1.2.0",
      "model_name": "LayoutModel",
      "state": {}
     },
     "8dab44ff782f4b5fa5a852091f02f0ee": {
      "model_module": "@jupyter-widgets/base",
      "model_module_version": "1.2.0",
      "model_name": "LayoutModel",
      "state": {}
     },
     "8e0f0181c6f84a878711c4e237817f54": {
      "model_module": "@jupyter-widgets/controls",
      "model_module_version": "1.5.0",
      "model_name": "DescriptionStyleModel",
      "state": {
       "description_width": ""
      }
     },
     "8e6d8bd412ad41a3b9c8d3d4cf852f64": {
      "model_module": "@jupyter-widgets/controls",
      "model_module_version": "1.5.0",
      "model_name": "HTMLModel",
      "state": {
       "layout": "IPY_MODEL_104d79dc06df487892848c4f33eb7c8f",
       "style": "IPY_MODEL_f5ba52af58994ee5a0ee1883bee13a9f",
       "value": " 11/11 [00:11&lt;00:00,  1.06s/it]"
      }
     },
     "8f52ecd08a4f406c86470d850e07b680": {
      "model_module": "@jupyter-widgets/base",
      "model_module_version": "1.2.0",
      "model_name": "LayoutModel",
      "state": {}
     },
     "900fc9879a054dc793c803fa00c99d72": {
      "model_module": "@jupyter-widgets/controls",
      "model_module_version": "1.5.0",
      "model_name": "HTMLModel",
      "state": {
       "layout": "IPY_MODEL_dd5450239b004c698ab95b8f23a89f53",
       "style": "IPY_MODEL_6e52a9edb64e4095aa1b697fa9e1c0bf",
       "value": " 1/15 [00:01&lt;00:13,  1.04it/s]"
      }
     },
     "917d3e07b39a45e99e4a92be45ffa9ca": {
      "model_module": "@jupyter-widgets/controls",
      "model_module_version": "1.5.0",
      "model_name": "DescriptionStyleModel",
      "state": {
       "description_width": ""
      }
     },
     "969ace036cb64a0ca710ed66867fe808": {
      "model_module": "@jupyter-widgets/base",
      "model_module_version": "1.2.0",
      "model_name": "LayoutModel",
      "state": {}
     },
     "9829dda9eca94c1b93b1cefc26d87589": {
      "model_module": "@jupyter-widgets/controls",
      "model_module_version": "1.5.0",
      "model_name": "DescriptionStyleModel",
      "state": {
       "description_width": ""
      }
     },
     "99daefcb34fd404385423a702d4a46ec": {
      "model_module": "@jupyter-widgets/base",
      "model_module_version": "1.2.0",
      "model_name": "LayoutModel",
      "state": {}
     },
     "9b2a1dbe4d084a379fdee0de680ded04": {
      "model_module": "@jupyter-widgets/base",
      "model_module_version": "1.2.0",
      "model_name": "LayoutModel",
      "state": {}
     },
     "9b86beaf647b4051b901d44e119f5738": {
      "model_module": "@jupyter-widgets/base",
      "model_module_version": "1.2.0",
      "model_name": "LayoutModel",
      "state": {}
     },
     "9e204624ec6549abb50d58c56a1429dc": {
      "model_module": "@jupyter-widgets/controls",
      "model_module_version": "1.5.0",
      "model_name": "HTMLModel",
      "state": {
       "layout": "IPY_MODEL_b4c4ca5f42194a08a2b0a9b0dc8fdcd9",
       "style": "IPY_MODEL_4a65fa92600e4a409df2623dc42026fd",
       "value": " 15/15 [00:16&lt;00:00,  1.06s/it]"
      }
     },
     "9fc6bd8cde704462a5707c57d1923f02": {
      "model_module": "@jupyter-widgets/base",
      "model_module_version": "1.2.0",
      "model_name": "LayoutModel",
      "state": {}
     },
     "a12dcd6398d54351bb9eb26cf62646b0": {
      "model_module": "@jupyter-widgets/controls",
      "model_module_version": "1.5.0",
      "model_name": "FloatProgressModel",
      "state": {
       "layout": "IPY_MODEL_782e079723b041428c2470f26dfcb9b3",
       "max": 4,
       "style": "IPY_MODEL_a1dbd0a1c1d24c99aeb1de83568e4ab9",
       "value": 4
      }
     },
     "a1ba30eb68b44dbcac146f2e9b142166": {
      "model_module": "@jupyter-widgets/base",
      "model_module_version": "1.2.0",
      "model_name": "LayoutModel",
      "state": {}
     },
     "a1dbd0a1c1d24c99aeb1de83568e4ab9": {
      "model_module": "@jupyter-widgets/controls",
      "model_module_version": "1.5.0",
      "model_name": "ProgressStyleModel",
      "state": {
       "description_width": ""
      }
     },
     "a3879197173f403284d6c5becf18b041": {
      "model_module": "@jupyter-widgets/controls",
      "model_module_version": "1.5.0",
      "model_name": "HTMLModel",
      "state": {
       "layout": "IPY_MODEL_78b2f9d7cd1748e0bdca8f336043acab",
       "style": "IPY_MODEL_e250e05fff3946ed81b565231ddeeb6a",
       "value": "Images: 100%"
      }
     },
     "a9fe028720374a5ead7fecee9126bb97": {
      "model_module": "@jupyter-widgets/controls",
      "model_module_version": "1.5.0",
      "model_name": "HTMLModel",
      "state": {
       "layout": "IPY_MODEL_df491334fa7d45f3a21d081578741f97",
       "style": "IPY_MODEL_ba7745ba342f468b909afddd04540af1",
       "value": " 0/3 [00:00&lt;?, ?it/s]"
      }
     },
     "ae111158d0ac4da68f11122732c0ed06": {
      "model_module": "@jupyter-widgets/base",
      "model_module_version": "1.2.0",
      "model_name": "LayoutModel",
      "state": {}
     },
     "aea08a57af894ca082ed7d0daf7ad428": {
      "model_module": "@jupyter-widgets/controls",
      "model_module_version": "1.5.0",
      "model_name": "FloatProgressModel",
      "state": {
       "layout": "IPY_MODEL_031d56b89aa546468e94ae3494c82ef8",
       "max": 13,
       "style": "IPY_MODEL_0ee290bdffc0488697b907e12a0531db",
       "value": 13
      }
     },
     "b3e67e56a8fc4caab6be24019ef2b031": {
      "model_module": "@jupyter-widgets/controls",
      "model_module_version": "1.5.0",
      "model_name": "HTMLModel",
      "state": {
       "layout": "IPY_MODEL_879d456ea88a42e896c43912979c5e65",
       "style": "IPY_MODEL_feb1f81de2c045a29d01124786555323",
       "value": " 3/41 [00:35&lt;08:14, 13.02s/it]"
      }
     },
     "b473e665bfa04f289f3068fada4252ee": {
      "model_module": "@jupyter-widgets/base",
      "model_module_version": "1.2.0",
      "model_name": "LayoutModel",
      "state": {}
     },
     "b4c4ca5f42194a08a2b0a9b0dc8fdcd9": {
      "model_module": "@jupyter-widgets/base",
      "model_module_version": "1.2.0",
      "model_name": "LayoutModel",
      "state": {}
     },
     "b4d5dfc55722419ca8c3811aa8f1e960": {
      "model_module": "@jupyter-widgets/controls",
      "model_module_version": "1.5.0",
      "model_name": "FloatProgressModel",
      "state": {
       "layout": "IPY_MODEL_2fa332c64add48e199fb7929458f666b",
       "max": 3,
       "style": "IPY_MODEL_424b1a2ac6ab4f3d9f2b76bc46dae450",
       "value": 3
      }
     },
     "b55f8b0808824805bb22de5b3dade5e8": {
      "model_module": "@jupyter-widgets/controls",
      "model_module_version": "1.5.0",
      "model_name": "ProgressStyleModel",
      "state": {
       "description_width": ""
      }
     },
     "b858c9a6541c49d29f1d666a70792bf4": {
      "model_module": "@jupyter-widgets/controls",
      "model_module_version": "1.5.0",
      "model_name": "FloatProgressModel",
      "state": {
       "layout": "IPY_MODEL_b9d9e058bdab4699adf5b80799e979d1",
       "max": 11,
       "style": "IPY_MODEL_174755f80237400ea49cd755019164e3",
       "value": 11
      }
     },
     "b8bd2ab528904c34b246c7e16e3cde56": {
      "model_module": "@jupyter-widgets/controls",
      "model_module_version": "1.5.0",
      "model_name": "HTMLModel",
      "state": {
       "layout": "IPY_MODEL_44e0f4c698794d789e79476c71ef62bc",
       "style": "IPY_MODEL_f803121c2b294045b619aee0cfbae0dd",
       "value": "Files: 100%"
      }
     },
     "b8bf2d870f744137a023fe9e205e33c1": {
      "model_module": "@jupyter-widgets/controls",
      "model_module_version": "1.5.0",
      "model_name": "HTMLModel",
      "state": {
       "layout": "IPY_MODEL_3e2efff98e374d8fa2090779e68543e5",
       "style": "IPY_MODEL_58e8e75625e248c69a5347c572be5c0a",
       "value": " 0/38 [00:00&lt;?, ?it/s]"
      }
     },
     "b9d9e058bdab4699adf5b80799e979d1": {
      "model_module": "@jupyter-widgets/base",
      "model_module_version": "1.2.0",
      "model_name": "LayoutModel",
      "state": {}
     },
     "ba7745ba342f468b909afddd04540af1": {
      "model_module": "@jupyter-widgets/controls",
      "model_module_version": "1.5.0",
      "model_name": "DescriptionStyleModel",
      "state": {
       "description_width": ""
      }
     },
     "bb127b5de09149d586c224aeadb3d92b": {
      "model_module": "@jupyter-widgets/controls",
      "model_module_version": "1.5.0",
      "model_name": "HTMLModel",
      "state": {
       "layout": "IPY_MODEL_bf3cebd93ad94bac95e3a52d4d05cfb7",
       "style": "IPY_MODEL_57572b309ae0488ebb437e41e3663509",
       "value": " 13/13 [00:19&lt;00:00,  1.54s/it]"
      }
     },
     "bf271f2b84f940068ef9bd3314583b14": {
      "model_module": "@jupyter-widgets/controls",
      "model_module_version": "1.5.0",
      "model_name": "HBoxModel",
      "state": {
       "children": [
        "IPY_MODEL_d859133b4d5f4465838863de3406e291",
        "IPY_MODEL_e52d84f6d32e496c9d05294ac0533f52",
        "IPY_MODEL_a9fe028720374a5ead7fecee9126bb97"
       ],
       "layout": "IPY_MODEL_17c20bdc7d6a4f0f82b2cd883f0002af"
      }
     },
     "bf3cebd93ad94bac95e3a52d4d05cfb7": {
      "model_module": "@jupyter-widgets/base",
      "model_module_version": "1.2.0",
      "model_name": "LayoutModel",
      "state": {}
     },
     "bff7f33c8d1c49849034b7771272db4f": {
      "model_module": "@jupyter-widgets/controls",
      "model_module_version": "1.5.0",
      "model_name": "HTMLModel",
      "state": {
       "layout": "IPY_MODEL_70ea29726f5d4543a9b5fe043437b682",
       "style": "IPY_MODEL_488775b4ecef47939dec39a8290cc34b",
       "value": " 15/15 [00:16&lt;00:00,  1.07s/it]"
      }
     },
     "c35d6e58866c4597bde0b542668fe39a": {
      "model_module": "@jupyter-widgets/controls",
      "model_module_version": "1.5.0",
      "model_name": "ProgressStyleModel",
      "state": {
       "description_width": ""
      }
     },
     "c39b95211eff4255a3d6a5f9bab2fa1a": {
      "model_module": "@jupyter-widgets/base",
      "model_module_version": "1.2.0",
      "model_name": "LayoutModel",
      "state": {}
     },
     "c43815549e9e4dc995b688396bcd14a1": {
      "model_module": "@jupyter-widgets/controls",
      "model_module_version": "1.5.0",
      "model_name": "HTMLModel",
      "state": {
       "layout": "IPY_MODEL_cfc055649c7543488d81a30d026b77c3",
       "style": "IPY_MODEL_8e0f0181c6f84a878711c4e237817f54",
       "value": " 3/3 [00:52&lt;00:00, 17.05s/it]"
      }
     },
     "c5149a8dfe4c412da729dacbdc1d592c": {
      "model_module": "@jupyter-widgets/controls",
      "model_module_version": "1.5.0",
      "model_name": "HTMLModel",
      "state": {
       "layout": "IPY_MODEL_6002f88532b74e25a6d1451b4b39809c",
       "style": "IPY_MODEL_462f70669de342b2b5b4150b97e26171",
       "value": " 4/4 [00:03&lt;00:00,  1.07it/s]"
      }
     },
     "c68ef013c6a3484c85deea94f889cf16": {
      "model_module": "@jupyter-widgets/base",
      "model_module_version": "1.2.0",
      "model_name": "LayoutModel",
      "state": {}
     },
     "cc6649270de84e1a8b40b637c78b97ac": {
      "model_module": "@jupyter-widgets/controls",
      "model_module_version": "1.5.0",
      "model_name": "FloatProgressModel",
      "state": {
       "layout": "IPY_MODEL_8927532261a349f6a381138d06008642",
       "max": 13,
       "style": "IPY_MODEL_b55f8b0808824805bb22de5b3dade5e8",
       "value": 13
      }
     },
     "cc8d2d0e840f498f9d071c62e8d62715": {
      "model_module": "@jupyter-widgets/base",
      "model_module_version": "1.2.0",
      "model_name": "LayoutModel",
      "state": {}
     },
     "cccc44137a324cf39d61920b596feb02": {
      "model_module": "@jupyter-widgets/base",
      "model_module_version": "1.2.0",
      "model_name": "LayoutModel",
      "state": {}
     },
     "cccf5fc50b724b5fb8b3a567b930204a": {
      "model_module": "@jupyter-widgets/controls",
      "model_module_version": "1.5.0",
      "model_name": "DescriptionStyleModel",
      "state": {
       "description_width": ""
      }
     },
     "cfc055649c7543488d81a30d026b77c3": {
      "model_module": "@jupyter-widgets/base",
      "model_module_version": "1.2.0",
      "model_name": "LayoutModel",
      "state": {}
     },
     "d0f26d1a755a474185d9ff2365ef3a4c": {
      "model_module": "@jupyter-widgets/controls",
      "model_module_version": "1.5.0",
      "model_name": "ProgressStyleModel",
      "state": {
       "description_width": ""
      }
     },
     "d76fb67561c7438f963745c5219365c5": {
      "model_module": "@jupyter-widgets/base",
      "model_module_version": "1.2.0",
      "model_name": "LayoutModel",
      "state": {}
     },
     "d859133b4d5f4465838863de3406e291": {
      "model_module": "@jupyter-widgets/controls",
      "model_module_version": "1.5.0",
      "model_name": "HTMLModel",
      "state": {
       "layout": "IPY_MODEL_8f52ecd08a4f406c86470d850e07b680",
       "style": "IPY_MODEL_831c0d7c691148ee92737853ea050a9f",
       "value": "Files:   0%"
      }
     },
     "dcfb5879412d4da7bcac701c50fbb776": {
      "model_module": "@jupyter-widgets/controls",
      "model_module_version": "1.5.0",
      "model_name": "FloatProgressModel",
      "state": {
       "bar_style": "success",
       "layout": "IPY_MODEL_6e55ba16d69b4feca2c5a585da51ffe8",
       "max": 3,
       "style": "IPY_MODEL_505931b16be84cbc8503ea5e970395bb",
       "value": 3
      }
     },
     "dd5450239b004c698ab95b8f23a89f53": {
      "model_module": "@jupyter-widgets/base",
      "model_module_version": "1.2.0",
      "model_name": "LayoutModel",
      "state": {}
     },
     "df491334fa7d45f3a21d081578741f97": {
      "model_module": "@jupyter-widgets/base",
      "model_module_version": "1.2.0",
      "model_name": "LayoutModel",
      "state": {}
     },
     "e1f9733e4e884bbdaebd109145584e30": {
      "model_module": "@jupyter-widgets/controls",
      "model_module_version": "1.5.0",
      "model_name": "HTMLModel",
      "state": {
       "layout": "IPY_MODEL_48026654e79b435f8f6571717d9a8455",
       "style": "IPY_MODEL_128324d8bf3c4f2a9a9109466a0aa334",
       "value": " 13/13 [00:18&lt;00:00,  1.38s/it]"
      }
     },
     "e250e05fff3946ed81b565231ddeeb6a": {
      "model_module": "@jupyter-widgets/controls",
      "model_module_version": "1.5.0",
      "model_name": "DescriptionStyleModel",
      "state": {
       "description_width": ""
      }
     },
     "e3d3f0162a804a32a7503b7aeda2406c": {
      "model_module": "@jupyter-widgets/base",
      "model_module_version": "1.2.0",
      "model_name": "LayoutModel",
      "state": {}
     },
     "e52d84f6d32e496c9d05294ac0533f52": {
      "model_module": "@jupyter-widgets/controls",
      "model_module_version": "1.5.0",
      "model_name": "FloatProgressModel",
      "state": {
       "bar_style": "danger",
       "layout": "IPY_MODEL_9fc6bd8cde704462a5707c57d1923f02",
       "max": 3,
       "style": "IPY_MODEL_77e2d6b6c9424e2aaa2860fc9c10cdac"
      }
     },
     "e597ffb33dc34dbda9445f3bbed0ab0c": {
      "model_module": "@jupyter-widgets/controls",
      "model_module_version": "1.5.0",
      "model_name": "FloatProgressModel",
      "state": {
       "layout": "IPY_MODEL_9b86beaf647b4051b901d44e119f5738",
       "max": 212,
       "style": "IPY_MODEL_33bdcf03a8a641009e095e2f3cda43c0",
       "value": 212
      }
     },
     "e5b5dce3bc624fc19565df6afa224560": {
      "model_module": "@jupyter-widgets/controls",
      "model_module_version": "1.5.0",
      "model_name": "DescriptionStyleModel",
      "state": {
       "description_width": ""
      }
     },
     "e73d34aebc51497abe15f24afd8a8410": {
      "model_module": "@jupyter-widgets/base",
      "model_module_version": "1.2.0",
      "model_name": "LayoutModel",
      "state": {}
     },
     "eaa397faaa7c4931b7f2eda9ed380f71": {
      "model_module": "@jupyter-widgets/controls",
      "model_module_version": "1.5.0",
      "model_name": "DescriptionStyleModel",
      "state": {
       "description_width": ""
      }
     },
     "eb85f346ff70492fa25c7fac9377d243": {
      "model_module": "@jupyter-widgets/controls",
      "model_module_version": "1.5.0",
      "model_name": "HTMLModel",
      "state": {
       "layout": "IPY_MODEL_0e8a5c657f3648ab9c774ccbdd10c02c",
       "style": "IPY_MODEL_42200ae50c7e453d8b6122958b484da3",
       "value": "Images: 100%"
      }
     },
     "f05951c6f7a547bb8fe2958a27838aba": {
      "model_module": "@jupyter-widgets/controls",
      "model_module_version": "1.5.0",
      "model_name": "HTMLModel",
      "state": {
       "layout": "IPY_MODEL_ae111158d0ac4da68f11122732c0ed06",
       "style": "IPY_MODEL_9829dda9eca94c1b93b1cefc26d87589",
       "value": "100%"
      }
     },
     "f2d65399930f41b38ba74c27197da40b": {
      "model_module": "@jupyter-widgets/base",
      "model_module_version": "1.2.0",
      "model_name": "LayoutModel",
      "state": {}
     },
     "f5b78c0dd2554732831d0e45afe0e022": {
      "model_module": "@jupyter-widgets/controls",
      "model_module_version": "1.5.0",
      "model_name": "ProgressStyleModel",
      "state": {
       "description_width": ""
      }
     },
     "f5ba52af58994ee5a0ee1883bee13a9f": {
      "model_module": "@jupyter-widgets/controls",
      "model_module_version": "1.5.0",
      "model_name": "DescriptionStyleModel",
      "state": {
       "description_width": ""
      }
     },
     "f803121c2b294045b619aee0cfbae0dd": {
      "model_module": "@jupyter-widgets/controls",
      "model_module_version": "1.5.0",
      "model_name": "DescriptionStyleModel",
      "state": {
       "description_width": ""
      }
     },
     "feb1f81de2c045a29d01124786555323": {
      "model_module": "@jupyter-widgets/controls",
      "model_module_version": "1.5.0",
      "model_name": "DescriptionStyleModel",
      "state": {
       "description_width": ""
      }
     },
     "ff52119c49544ba3b2d8c3ddb80e4b52": {
      "model_module": "@jupyter-widgets/controls",
      "model_module_version": "1.5.0",
      "model_name": "FloatProgressModel",
      "state": {
       "bar_style": "danger",
       "layout": "IPY_MODEL_1234fa0f645e487d8f74de3c359e9d9d",
       "max": 15,
       "style": "IPY_MODEL_f5b78c0dd2554732831d0e45afe0e022",
       "value": 1
      }
     },
     "ff699654974b45eb89d9984d881f1977": {
      "model_module": "@jupyter-widgets/controls",
      "model_module_version": "1.5.0",
      "model_name": "ProgressStyleModel",
      "state": {
       "description_width": ""
      }
     }
    },
    "version_major": 2,
    "version_minor": 0
   }
  }
 },
 "nbformat": 4,
 "nbformat_minor": 4
}

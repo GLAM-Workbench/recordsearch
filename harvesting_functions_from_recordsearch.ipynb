{
 "cells": [
  {
   "cell_type": "markdown",
   "metadata": {},
   "source": [
    "# Harvesting functions from the RecordSearch interface\n",
    "\n",
    "This notebook attempts to extract information from the RecordSearch interface about the hierarchy of functions it uses to describe the work of government agencies.\n",
    "\n",
    "[Previous explorations](https://timsherratt.org/research-notebook/aggregated-archives/notes/naa-functions/) have shown that the NAA's use of functions is rather inconsistent. All I'm doing here is finding out what functions RecordSearch itself says it is using. This may not be complete, but it seems like a useful starting point.\n",
    "\n",
    "There are a few inconsistencies that I've tried to clean up. In particular, the hierarchy is broken in a number of places where a child term links up to a non-preferred term. In this case I've replaced the non-preferred term with the preferred term.\n",
    "\n",
    "I've also noticed that some 'narrower' terms don't have their own entries in the main list, so I've made sure that these are all added in.\n",
    "\n",
    "I suspect that the majority of these terms are never used, but we'll save that question for another notebook..."
   ]
  },
  {
   "cell_type": "code",
   "execution_count": 1,
   "metadata": {},
   "outputs": [],
   "source": [
    "import datetime\n",
    "import json\n",
    "import os\n",
    "import re\n",
    "from copy import deepcopy\n",
    "from operator import itemgetter\n",
    "\n",
    "import mechanicalsoup\n",
    "import pandas as pd\n",
    "from IPython.display import FileLink, display\n",
    "from tinydb import Query, TinyDB\n",
    "from tinydb.operations import set\n",
    "from tqdm.auto import tqdm\n",
    "\n",
    "# Make sure there's somewhere to save data files\n",
    "os.makedirs(\"data\", exist_ok=True)"
   ]
  },
  {
   "cell_type": "code",
   "execution_count": 2,
   "metadata": {},
   "outputs": [],
   "source": [
    "# The harvesting code\n",
    "# Much kludginess here to deal with inconsistencies in RS\n",
    "\n",
    "BROKEN_HIERARCHIES = {\n",
    "    # borked parent: good parent\n",
    "    \"australian defence forces (adf)\": \"defence forces\",\n",
    "    \"immigration\": \"migration\",\n",
    "    \"community protection\": \"customs\",\n",
    "    \"security\": \"security and intelligence\",\n",
    "    \"finance management\": \"financial matters\",\n",
    "    \"education and training\": \"education\",\n",
    "    \"governance\": None,\n",
    "    \"customs regulations\": \"customs\",\n",
    "    \"employment services\": \"employment\",\n",
    "    \"health care\": \"health\",\n",
    "    \"maritime services\": \"sea transport\",\n",
    "    \"early childhood education\": \"education\",\n",
    "    \"fiscal policy\": \"financial matters\",\n",
    "    \"marine and rural regulation\": \"primary industries\",\n",
    "    \"civic infrastructure\": \"works\",\n",
    "    \"retirement income\": \"financial matters\",\n",
    "    \"import regulation\": \"trade\",\n",
    "}\n",
    "\n",
    "MOVE_DUPLICATE_PARENTS = {\n",
    "    # term: correct parent\n",
    "    \"rail transport\": \"land transport\",\n",
    "    \"road transport\": \"land transport\",\n",
    "    \"tariff regulation\": \"customs\",\n",
    "    \"overseas aid programs\": \"international relations\",\n",
    "    \"consular services\": \"international relations\",\n",
    "}\n",
    "\n",
    "DELETE_DUPLICATE_CHILDREN = {\n",
    "    # term: children to delete\n",
    "    \"transport\": [\"rail transport\", \"road transport\"],\n",
    "    \"trade\": [\"tariff regulation\"],\n",
    "    \"foreign policy\": [\"overseas aid programs\"],\n",
    "    \"government representation overseas\": [\"consular services\"],\n",
    "}"
   ]
  },
  {
   "cell_type": "code",
   "execution_count": 3,
   "metadata": {},
   "outputs": [],
   "source": [
    "db = TinyDB(\"data/db_functions.json\")\n",
    "\n",
    "\n",
    "def save_terms(row):\n",
    "    Record = Query()\n",
    "    links = row.find_all(\"a\", href=True)\n",
    "    for link in links:\n",
    "        db.upsert({\"term\": link.string.lower()}, Record.term == link.string.lower())\n",
    "\n",
    "\n",
    "def save_relations(row):\n",
    "    Record = Query()\n",
    "    term = row.find(\"a\").string.lower()\n",
    "    if row.find(\"table\"):\n",
    "        # Loop through the rows underneath the term heading to get info about related terms\n",
    "        for related in row.find(\"table\").find_all(\"tr\"):\n",
    "            cells = related.find_all(\"td\")\n",
    "            if re.search(r\"Broad term\", cells[0].string):\n",
    "                # This is the parent of the current term\n",
    "                parent = cells[1].find(\"a\").string.lower()\n",
    "                if parent in BROKEN_HIERARCHIES:\n",
    "                    parent = BROKEN_HIERARCHIES[parent]\n",
    "                if term in MOVE_DUPLICATE_PARENTS:\n",
    "                    parent = MOVE_DUPLICATE_PARENTS[term]\n",
    "                if parent:\n",
    "                    db.update(set(\"parent\", parent), Record.term == term)\n",
    "            if re.search(r\"Narrow terms\", cells[0].string):\n",
    "                if term in BROKEN_HIERARCHIES:\n",
    "                    term = BROKEN_HIERARCHIES[term]\n",
    "                for link in cells[1].find_all(\"a\"):\n",
    "                    # These are children of the current term\n",
    "                    child = link.string.lower()\n",
    "                    if not (\n",
    "                        term in DELETE_DUPLICATE_CHILDREN\n",
    "                        and child in DELETE_DUPLICATE_CHILDREN[term]\n",
    "                    ):\n",
    "                        db.update(set(\"parent\", term), Record.term == child)\n",
    "\n",
    "\n",
    "def process_pages(loop):\n",
    "    browser = mechanicalsoup.StatefulBrowser()\n",
    "    browser.open(\"https://recordsearch.naa.gov.au/scripts/Logon.asp?N=guest\")\n",
    "    browser.select_form('form[id=\"t\"]')\n",
    "    browser.submit_selected()\n",
    "    browser.open(\n",
    "        \"http://recordsearch.naa.gov.au/SearchNRetrieve/Interface/SearchScreens/AdvSearchFunctionsBrowsing.aspx\"\n",
    "    )\n",
    "    for letter in tqdm(range(0, 26)):\n",
    "        form = browser.select_form(\"#formSNRMaster\")\n",
    "\n",
    "        form.new_control(\n",
    "            \"input\",\n",
    "            \"__EVENTTARGET\",\n",
    "            f\"ctl00$ContentPlaceHolderSNR$ctl{str(letter).zfill(2)}\",\n",
    "        )\n",
    "        browser.submit_selected()\n",
    "        try:\n",
    "            for row in browser.page.find(\n",
    "                id=\"ContentPlaceHolderSNR_dlFunctions\"\n",
    "            ).find_all(\"tr\", recursive=False):\n",
    "                if loop == 1:\n",
    "                    save_terms(row)\n",
    "                elif loop == 2:\n",
    "                    save_relations(row)\n",
    "        except AttributeError:\n",
    "            # No terms on this page\n",
    "            pass\n",
    "\n",
    "\n",
    "def harvest_functions():\n",
    "    # Try looping through twice to deal with the inconsistences in the way relationships are defined\n",
    "    # First loop is to get every term that has a link back into RS indicating that it might be used\n",
    "    process_pages(loop=1)\n",
    "    # Ok now we have every term, let's try to put them in a hierarchy\n",
    "    process_pages(loop=2)\n",
    "\n",
    "\n",
    "def get_children(parent):\n",
    "    Record = Query()\n",
    "    term = {\"term\": parent[\"term\"], \"narrower\": []}\n",
    "    children = db.search(Record.parent == parent[\"term\"])\n",
    "    for child in children:\n",
    "        term[\"narrower\"].append(get_children(child))\n",
    "    return term\n",
    "\n",
    "\n",
    "def make_hierarchy():\n",
    "    Record = Query()\n",
    "    terms = []\n",
    "    parents = db.search(~(Record.parent.exists()))\n",
    "    for parent in parents:\n",
    "        terms.append(get_children(parent))\n",
    "    return sorted(terms, key=itemgetter(\"term\"))"
   ]
  },
  {
   "cell_type": "code",
   "execution_count": null,
   "metadata": {
    "tags": [
     "nbval-skip"
    ]
   },
   "outputs": [],
   "source": [
    "harvest_functions()\n",
    "functions = make_hierarchy()"
   ]
  },
  {
   "cell_type": "markdown",
   "metadata": {},
   "source": [
    "## Save and download the results\n",
    "\n",
    "Save the harvested functions as text and JSON files for easy download."
   ]
  },
  {
   "cell_type": "code",
   "execution_count": 5,
   "metadata": {},
   "outputs": [],
   "source": [
    "def get_text_levels(function, level):\n",
    "    f_list = []\n",
    "    if \"narrower\" in function:\n",
    "        level += 1\n",
    "        for subf in function[\"narrower\"]:\n",
    "            f_list.append(\"{}{} {}\".format(level * \"  \", level * \"-\", subf[\"term\"]))\n",
    "            f_list += get_text_levels(subf, level=level)\n",
    "    return f_list\n",
    "\n",
    "\n",
    "def save_text(functions, today):\n",
    "    functions_list = []\n",
    "    for function in functions:\n",
    "        functions_list.append(function[\"term\"].upper())\n",
    "        functions_list += get_text_levels(function, level=0)\n",
    "    with open(f\"data/functions-{today}.txt\", \"w\") as text_file:\n",
    "        for row in functions_list:\n",
    "            text_file.write(\"{}\\n\".format(row))\n",
    "\n",
    "\n",
    "def get_csv_levels(function, row):\n",
    "    rows = []\n",
    "    if \"narrower\" in function:\n",
    "        key = \"level{}\".format(len(row) + 1)\n",
    "        for subf in function[\"narrower\"]:\n",
    "            this_row = deepcopy(row)\n",
    "            this_row[key] = subf[\"term\"]\n",
    "            rows.append(this_row)\n",
    "            rows += get_csv_levels(subf, this_row)\n",
    "    return rows\n",
    "\n",
    "\n",
    "def save_csv(functions, today):\n",
    "    rows = []\n",
    "    for function in functions:\n",
    "        row = {\"level1\": function[\"term\"]}\n",
    "        rows.append(row)\n",
    "        rows += get_csv_levels(function, row)\n",
    "    df = pd.DataFrame(rows)\n",
    "    df.to_csv(f\"data/functions-{today}.csv\", index=False)\n",
    "\n",
    "\n",
    "def save_functions(functions):\n",
    "    \"\"\"\n",
    "    Saves the harvested list of functions in text, json, and csv.\n",
    "    \"\"\"\n",
    "    today = datetime.datetime.now().strftime(\"%Y%m%d\")\n",
    "    with open(f\"data/functions-{today}.json\", \"w\") as json_file:\n",
    "        json.dump(functions, json_file, indent=4)\n",
    "    save_text(functions, today)\n",
    "    save_csv(functions, today)\n",
    "    display(FileLink(f\"data/functions-{today}.txt\"))\n",
    "    display(FileLink(f\"data/functions-{today}.json\"))\n",
    "    display(FileLink(f\"data/functions-{today}.csv\"))"
   ]
  },
  {
   "cell_type": "code",
   "execution_count": 6,
   "metadata": {
    "tags": [
     "nbval-skip"
    ]
   },
   "outputs": [
    {
     "data": {
      "text/html": [
       "<a href='data/functions-20220510.txt' target='_blank'>data/functions-20220510.txt</a><br>"
      ],
      "text/plain": [
       "/home/tim/Workspace/mycode/glam-workbench/recordsearch/notebooks/data/functions-20220510.txt"
      ]
     },
     "metadata": {},
     "output_type": "display_data"
    },
    {
     "data": {
      "text/html": [
       "<a href='data/functions-20220510.json' target='_blank'>data/functions-20220510.json</a><br>"
      ],
      "text/plain": [
       "/home/tim/Workspace/mycode/glam-workbench/recordsearch/notebooks/data/functions-20220510.json"
      ]
     },
     "metadata": {},
     "output_type": "display_data"
    },
    {
     "data": {
      "text/html": [
       "<a href='data/functions-20220510.csv' target='_blank'>data/functions-20220510.csv</a><br>"
      ],
      "text/plain": [
       "/home/tim/Workspace/mycode/glam-workbench/recordsearch/notebooks/data/functions-20220510.csv"
      ]
     },
     "metadata": {},
     "output_type": "display_data"
    }
   ],
   "source": [
    "save_functions(functions)"
   ]
  },
  {
   "cell_type": "markdown",
   "metadata": {},
   "source": [
    "----\n",
    "\n",
    "Created by [Tim Sherratt](https://timsherratt.org/) as part of the [GLAM Workbench](https://glam-workbench.github.io/)."
   ]
  }
 ],
 "metadata": {
  "kernelspec": {
   "display_name": "Python 3 (ipykernel)",
   "language": "python",
   "name": "python3"
  },
  "language_info": {
   "codemirror_mode": {
    "name": "ipython",
    "version": 3
   },
   "file_extension": ".py",
   "mimetype": "text/x-python",
   "name": "python",
   "nbconvert_exporter": "python",
   "pygments_lexer": "ipython3",
   "version": "3.8.12"
  },
  "widgets": {
   "application/vnd.jupyter.widget-state+json": {
    "state": {},
    "version_major": 2,
    "version_minor": 0
   }
  }
 },
 "nbformat": 4,
 "nbformat_minor": 4
}

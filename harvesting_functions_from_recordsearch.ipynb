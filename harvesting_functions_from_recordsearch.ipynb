{
 "cells": [
  {
   "cell_type": "markdown",
   "metadata": {},
   "source": [
    "# Harvesting functions from the RecordSearch interface\n",
    "\n",
    "This notebook attempts to extract information from the RecordSearch interface about the hierarchy of functions it uses to describe the work of government agencies.\n",
    "\n",
    "[Previous explorations](https://timsherratt.org/research-notebook/aggregated-archives/notes/naa-functions/) have shown that the NAA's use of functions is rather inconsistent. All I'm doing here is finding out what functions RecordSearch itself says it is using. This may not be complete, but it seems like a useful starting point.\n",
    "\n",
    "There are a few inconsistencies that I've tried to clean up. In particular, the hierarchy is broken in a number of places where a child term links up to a non-preferred term. In this case I've replaced the non-preferred term with the preferred term.\n",
    "\n",
    "I've also noticed that some 'narrower' terms don't have their own entries in the main list, so I've made sure that these are all added in.\n",
    "\n",
    "I suspect that the majority of these terms are never used, but we'll save that question for another notebook..."
   ]
  },
  {
   "cell_type": "code",
   "execution_count": 123,
   "metadata": {},
   "outputs": [],
   "source": [
    "from copy import deepcopy\n",
    "import json\n",
    "import os\n",
    "import robobrowser\n",
    "import re\n",
    "import pandas as pd\n",
    "from IPython.display import display, HTML, FileLink\n",
    "from tqdm import tqdm_notebook\n",
    "from recordsearch_tools.client import RSClient, RSAgencySearchClient\n",
    "\n",
    "# Make sure there's somewhere to save data files\n",
    "os.makedirs('data', exist_ok=True)"
   ]
  },
  {
   "cell_type": "code",
   "execution_count": 190,
   "metadata": {},
   "outputs": [],
   "source": [
    "# The harvesting code\n",
    "# Much kludginess here to deal with inconsistencies in RS\n",
    "\n",
    "BROKEN_HIERARCHIES = {\n",
    "    # borked parent: good parent\n",
    "    'australian defence forces (adf)': 'defence forces',\n",
    "    'immigration': 'migration',\n",
    "    'community protection': 'customs',\n",
    "    'security': 'security and intelligence',\n",
    "    'finance management': 'financial matters',\n",
    "    'education and training': 'education',\n",
    "    'governance': None,\n",
    "    'customs regulations': 'customs',\n",
    "    'employment services': 'employment',\n",
    "    'health care': 'health',\n",
    "    'maritime services': 'sea transport',\n",
    "    'early childhood education': 'education',\n",
    "    'fiscal policy': 'financial matters',\n",
    "    'marine and rural regulation': 'primary industries',\n",
    "    'civic infrastructure': 'works',\n",
    "    'retirement income': 'financial matters',\n",
    "    'import regulation': 'trade'\n",
    "}\n",
    "\n",
    "MOVE_DUPLICATE_PARENTS = {\n",
    "    # term: correct parent\n",
    "    'rail transport': 'land transport',\n",
    "    'road transport': 'land transport',\n",
    "    'tariff regulation': 'customs',\n",
    "    'overseas aid programs': 'international relations',\n",
    "    'consular services': 'international relations'\n",
    "}\n",
    "\n",
    "DELETE_DUPLICATE_CHILDREN = {\n",
    "    # term: children to delete\n",
    "    'transport': ['rail transport', 'road transport'],\n",
    "    'trade': ['tariff regulation'],\n",
    "    'foreign policy': ['overseas aid programs'],\n",
    "    'government representation overseas': ['consular services']\n",
    "}\n",
    "\n",
    "class RSFunctionsClient(RSClient):\n",
    "    '''\n",
    "    Harvests the functions that are used in the RS functions browse interface.\n",
    "    '''\n",
    "    \n",
    "    def add_child(self, child, parents):\n",
    "        '''\n",
    "        Checks to see in the child's parent is in the supplied list of parents.\n",
    "        If it is, it adds the child to a list of 'narrower' terms in the parent item.\n",
    "        '''\n",
    "        this_child = deepcopy(child)\n",
    "        this_parent = this_child.pop('parent')\n",
    "        for parent in parents:\n",
    "            if parent['term'] == this_parent:\n",
    "                try:\n",
    "                    if not any(p['term'] == this_child['term'] for p in parent['narrower']):\n",
    "                        parent['narrower'].append(this_child)\n",
    "                    # This is necessary to keep narrower items that don't have their own entries\n",
    "                    elif 'narrower' in this_child:\n",
    "                        for p in parent['narrower']:\n",
    "                            if p['term'] == this_child['term']:\n",
    "                                p['narrower'] = this_child['narrower']\n",
    "                except KeyError:\n",
    "                    parent['narrower'] = []\n",
    "                    parent['narrower'].append(this_child)\n",
    "        return parents\n",
    "\n",
    "    def harvest_functions(self):\n",
    "        terms = []\n",
    "        self.br.session.headers.update({'Referer': 'http://recordsearch.naa.gov.au/SearchNRetrieve/Interface/SearchScreens/BasicSearch.aspx'})\n",
    "        self.br.open('http://recordsearch.naa.gov.au/SearchNRetrieve/Interface/SearchScreens/AdvSearchFunctionsBrowsing.aspx')\n",
    "        for letter in tqdm_notebook(range(0, 26)):\n",
    "            form = self.br.get_form(id='formSNRMaster')\n",
    "            form['__EVENTTARGET'] = 'ctl00$ContentPlaceHolderSNR$ctl{}'.format(str(letter).zfill(2))\n",
    "            submit = robobrowser.forms.fields.Input('<input type=\"submit\" value=\"Submit\" name=\"submit\">Submit</input>')\n",
    "            form.add_field(submit)\n",
    "            self.br.submit_form(form, submit=form['submit'])\n",
    "            try:\n",
    "                for row in self.br.find(id='ContentPlaceHolderSNR_dlFunctions').find_all('tr', recursive=False):\n",
    "                    try:\n",
    "                        # Non-preferred terms don't have links on them, so we can use this to\n",
    "                        # only include preferred terms.\n",
    "                        href = row.find('a')['href']\n",
    "                    except (KeyError):\n",
    "                        # Ignore non-preferred terms\n",
    "                        pass\n",
    "                    else:\n",
    "                        # Grab the term!\n",
    "                        term = {'term': row.find('a').string.lower(), 'narrower': []}\n",
    "                        if row.find('table'):\n",
    "                            # Loop through the rows underneath the term heading to get info about related terms\n",
    "                            for related in row.find('table').find_all('tr'):\n",
    "                                cells = related.find_all('td')\n",
    "                                # There is only ever one broader term, it moves you up the hierarchy\n",
    "                                # It's the parent on the current term\n",
    "                                if re.search(r'Broad term', cells[0].string):\n",
    "                                    parent = cells[1].find('a').string.lower()\n",
    "                                    # These are all problems in the RS interface -- the hierarchies don't match up\n",
    "                                    # So we're rewriting the broader (parent) function to be the one that's actually in use\n",
    "                                    if parent in BROKEN_HIERARCHIES:\n",
    "                                        parent = BROKEN_HIERARCHIES[parent]\n",
    "                                    if term['term'] in MOVE_DUPLICATE_PARENTS:\n",
    "                                        parent = MOVE_DUPLICATE_PARENTS[term['term']]\n",
    "                                    if parent:\n",
    "                                        term['parent'] = parent\n",
    "                                # We're grabbing these narrower terms because I've noticed that not all of them\n",
    "                                # have their own top-level entry. So if I don't get them here, we'll lose them.\n",
    "                                # This means, however, that we'll have duplicates that we'll need to deal with later.\n",
    "                                if re.search(r'Narrow terms', cells[0].string):\n",
    "                                    for link in cells[1].find_all('a'):\n",
    "                                        narrow = link.string.lower()\n",
    "                                        if not (term['term'] in DELETE_DUPLICATE_CHILDREN and narrow in DELETE_DUPLICATE_CHILDREN[term['term']]):\n",
    "                                            try:\n",
    "                                                # Weed out duplicates in RS\n",
    "                                                if not any(t['term'] == narrow for t in term['narrower']):\n",
    "                                                    term['narrower'].append({'term': narrow, 'narrower': []})\n",
    "                                            except KeyError:\n",
    "                                                term['narrower'] = []\n",
    "                                                term['narrower'].append({'term': narrow, 'narrower': []})\n",
    "                                # A non-preferred term shouldn't have a link on the term,\n",
    "                                # so we shouldn never actually end up here. But just in case...\n",
    "                                if re.search(r'Preferred term', cells[0].string):\n",
    "                                    print(term)\n",
    "                        terms.append(term)\n",
    "            except AttributeError:\n",
    "                pass\n",
    "        # We want to build a hierarchy starting with the top-level functions (those without parents)\n",
    "        functions = [t for t in terms if 'parent' not in t]\n",
    "        children = [t for t in terms if 'parent' in t]\n",
    "        # To build up the hierarchy we start at the top, inserting direct children in the 'narrower' list\n",
    "        # There are four levels in the RS hierarchy, so we continue down through each level.\n",
    "        # There must be a nicer way of doing this...\n",
    "        for child in children:\n",
    "            functions = self.add_child(child, functions)\n",
    "        # Next level down\n",
    "        for child in children:\n",
    "            for function in functions:\n",
    "                if 'narrower' in function:\n",
    "                    function['narrower'] = self.add_child(child, function['narrower'])\n",
    "        # Next level down\n",
    "        for child in children:\n",
    "            for function in functions:\n",
    "                if 'narrower' in function:\n",
    "                    for subf in function['narrower']:\n",
    "                        if 'narrower' in subf:\n",
    "                            subf['narrower'] = self.add_child(child, subf['narrower'])\n",
    "        # Next level down\n",
    "        for child in children:\n",
    "            for function in functions:\n",
    "                if 'narrower' in function:\n",
    "                    for subf in function['narrower']:\n",
    "                        if 'narrower' in subf:\n",
    "                            for subsubf in subf['narrower']:\n",
    "                                if 'narrower' in subsubf:\n",
    "                                    subsubf['narrower'] = self.add_child(child, subsubf['narrower'])\n",
    "        return functions"
   ]
  },
  {
   "cell_type": "code",
   "execution_count": 191,
   "metadata": {},
   "outputs": [
    {
     "data": {
      "application/vnd.jupyter.widget-view+json": {
       "model_id": "bdbce6defff94f809c39de614d5b3082",
       "version_major": 2,
       "version_minor": 0
      },
      "text/plain": [
       "HBox(children=(IntProgress(value=0, max=26), HTML(value='')))"
      ]
     },
     "metadata": {},
     "output_type": "display_data"
    }
   ],
   "source": [
    "# Start a harvest!\n",
    "c = RSFunctionsClient()\n",
    "functions = c.harvest_functions()"
   ]
  },
  {
   "cell_type": "markdown",
   "metadata": {},
   "source": [
    "## Check for duplicates\n",
    "\n",
    "I suspect there may be some duplicated functions, so let's check...\n",
    "\n",
    "First we'll just write all the terms to a flat list."
   ]
  },
  {
   "cell_type": "code",
   "execution_count": 169,
   "metadata": {},
   "outputs": [],
   "source": [
    "def get_children(function):\n",
    "    f_list = []\n",
    "    if 'narrower' in function:\n",
    "        for subf in function['narrower']:\n",
    "            f_list.append(subf['term'])\n",
    "            f_list += get_children(subf)\n",
    "    return f_list\n",
    "\n",
    "functions_list = []\n",
    "for function in functions:\n",
    "    functions_list.append(function['term'])\n",
    "    functions_list += get_children(function)"
   ]
  },
  {
   "cell_type": "markdown",
   "metadata": {},
   "source": [
    "Now we can use Pandas to easily find duplicates."
   ]
  },
  {
   "cell_type": "code",
   "execution_count": 170,
   "metadata": {},
   "outputs": [
    {
     "data": {
      "text/html": [
       "<div>\n",
       "<style scoped>\n",
       "    .dataframe tbody tr th:only-of-type {\n",
       "        vertical-align: middle;\n",
       "    }\n",
       "\n",
       "    .dataframe tbody tr th {\n",
       "        vertical-align: top;\n",
       "    }\n",
       "\n",
       "    .dataframe thead th {\n",
       "        text-align: right;\n",
       "    }\n",
       "</style>\n",
       "<table border=\"1\" class=\"dataframe\">\n",
       "  <thead>\n",
       "    <tr style=\"text-align: right;\">\n",
       "      <th></th>\n",
       "      <th>0</th>\n",
       "    </tr>\n",
       "  </thead>\n",
       "  <tbody>\n",
       "    <tr>\n",
       "      <th>277</th>\n",
       "      <td>quarantine</td>\n",
       "    </tr>\n",
       "    <tr>\n",
       "      <th>362</th>\n",
       "      <td>natural disasters</td>\n",
       "    </tr>\n",
       "  </tbody>\n",
       "</table>\n",
       "</div>"
      ],
      "text/plain": [
       "                     0\n",
       "277         quarantine\n",
       "362  natural disasters"
      ]
     },
     "execution_count": 170,
     "metadata": {},
     "output_type": "execute_result"
    }
   ],
   "source": [
    "df = pd.DataFrame(functions_list)\n",
    "df.loc[df.duplicated()]"
   ]
  },
  {
   "cell_type": "markdown",
   "metadata": {},
   "source": [
    "Yep, as I suspected... If you look at the data file you'll see that the duplications occur when terms are included at more than one point in the hierarchy. 'Quarantine' and 'Natural disasters' are under different top-level functions, so we can probably leave them alone. But the others will cause problems. I don't think there's any elegant way of fixing this.\n",
    "\n",
    "I've now inserted some kludgey stuff in the harvester, so only 'Quarantine' and 'Natural disasters' should show up as duplicates."
   ]
  },
  {
   "cell_type": "markdown",
   "metadata": {},
   "source": [
    "## Download the results\n",
    "\n",
    "Save the harvested functions as text and JSON files for easy download."
   ]
  },
  {
   "cell_type": "code",
   "execution_count": 200,
   "metadata": {},
   "outputs": [],
   "source": [
    "def write_functions(functions):\n",
    "    '''\n",
    "    Saves the harvested list of functions in text and json.\n",
    "    '''\n",
    "    rows = []\n",
    "    with open('data/functions.txt', 'w') as text_file:\n",
    "        for function in functions:\n",
    "            rows.append({'level1': function['term']})\n",
    "            text_file.write('{}\\n'.format(function['term'].upper()))\n",
    "            if 'narrower' in function:\n",
    "                for subf in function['narrower']:\n",
    "                    rows.append({'level1': function['term'], 'level2': subf['term']})\n",
    "                    text_file.write('  - {}\\n'.format(subf['term'].title()))\n",
    "                    if 'narrower' in subf:\n",
    "                        for subsubf in subf['narrower']:\n",
    "                            rows.append({'level1': function['term'], 'level2': subf['term'], 'level3': subsubf['term']})\n",
    "                            text_file.write('    -- {}\\n'.format(subsubf['term'].title()))\n",
    "                            if 'narrower' in subsubf:\n",
    "                                for subsubsubf in subsubf['narrower']:\n",
    "                                    rows.append({'level1': function['term'], 'level2': subf['term'], 'level3': subsubf['term'], 'level4': subsubsubf['term']})\n",
    "                                    text_file.write('      --- {}\\n'.format(subsubsubf['term'].title()))\n",
    "                                    if 'narrower' in subsubsubf:\n",
    "                                        for subsubsubsubf in subsubsubf['narrower']:\n",
    "                                            rows.append({'level1': function['term'], 'level2': subf['term'], 'level3': subsubf['term'], 'level4': subsubsubf['term'], 'level5': subsubsubsubf['term']})\n",
    "                                            text_file.write('        ---- {}\\n'.format(subsubsubsubf['term'].title()))\n",
    "    with open('data/functions.json', 'w') as json_file:\n",
    "        json.dump(functions, json_file, indent=4)\n",
    "    df = pd.DataFrame(rows)\n",
    "    df.to_csv('data/functions.csv', index=False)\n",
    "    display(FileLink('data/functions.txt'))\n",
    "    display(FileLink('data/functions.json'))\n",
    "    display(FileLink('data/functions.csv'))\n",
    "    "
   ]
  },
  {
   "cell_type": "code",
   "execution_count": 201,
   "metadata": {
    "scrolled": false
   },
   "outputs": [
    {
     "data": {
      "text/html": [
       "<a href='data/functions.txt' target='_blank'>data/functions.txt</a><br>"
      ],
      "text/plain": [
       "/Users/tim/mycode/glam-workbench/recordsearch/notebooks/data/functions.txt"
      ]
     },
     "metadata": {},
     "output_type": "display_data"
    },
    {
     "data": {
      "text/html": [
       "<a href='data/functions.json' target='_blank'>data/functions.json</a><br>"
      ],
      "text/plain": [
       "/Users/tim/mycode/glam-workbench/recordsearch/notebooks/data/functions.json"
      ]
     },
     "metadata": {},
     "output_type": "display_data"
    },
    {
     "data": {
      "text/html": [
       "<a href='data/functions.csv' target='_blank'>data/functions.csv</a><br>"
      ],
      "text/plain": [
       "/Users/tim/mycode/glam-workbench/recordsearch/notebooks/data/functions.csv"
      ]
     },
     "metadata": {},
     "output_type": "display_data"
    }
   ],
   "source": [
    "write_functions(functions)"
   ]
  },
  {
   "cell_type": "code",
   "execution_count": null,
   "metadata": {},
   "outputs": [],
   "source": []
  }
 ],
 "metadata": {
  "kernelspec": {
   "display_name": "Python 3",
   "language": "python",
   "name": "python3"
  },
  "language_info": {
   "codemirror_mode": {
    "name": "ipython",
    "version": 3
   },
   "file_extension": ".py",
   "mimetype": "text/x-python",
   "name": "python",
   "nbconvert_exporter": "python",
   "pygments_lexer": "ipython3",
   "version": "3.6.5"
  }
 },
 "nbformat": 4,
 "nbformat_minor": 2
}
